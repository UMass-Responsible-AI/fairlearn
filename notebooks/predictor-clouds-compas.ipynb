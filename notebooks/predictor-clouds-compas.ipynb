{
 "cells": [
  {
   "cell_type": "markdown",
   "metadata": {
    "colab_type": "text",
    "id": "1NAwu5nrpo0A"
   },
   "source": [
    "# Predictor clouds - Analyse the experiment with complete Lagrangian from exponentiated gradient as grid for grid search\n",
    "\n",
    "In this, we analyse predictors from expgrad on full dataset, expgrad on partial dataset and hybrid model with various fractions of subsets.\n",
    "\n",
    "### Notes:\n",
    "\n",
    "1. For hybrid model, we report 2 values - expgrad on partial dataset and grid search by re-training all classifiers with output lagrangian of expgrad.\n",
    "\n",
    "2. As predict may give variable results (due to randomisation), `_pmf_predict` is used to get the value of the `y_pred` for exp grad (in both cases - on partial and also on full dataset).\n"
   ]
  },
  {
   "cell_type": "code",
   "execution_count": 1,
   "metadata": {
    "colab": {
     "base_uri": "https://localhost:8080/",
     "height": 41
    },
    "colab_type": "code",
    "executionInfo": {
     "elapsed": 8038,
     "status": "ok",
     "timestamp": 1590687762422,
     "user": {
      "displayName": "Parul Gupta",
      "photoUrl": "https://lh3.googleusercontent.com/a-/AOh14Gjzx9Gg7u--OtTsSQHEyX2mNCuOkuT12Eq4CYXf=s64",
      "userId": "14512472131783578125"
     },
     "user_tz": 240
    },
    "id": "igDct74vpo0D",
    "outputId": "40f0ed44-6200-446f-86dc-8a3c7a8b7b9c"
   },
   "outputs": [
    {
     "name": "stderr",
     "output_type": "stream",
     "text": [
      "\n",
      "Bad key \"text.kerning_factor\" on line 4 in\n",
      "/Users/parulgupta/anaconda3/lib/python3.7/site-packages/matplotlib/mpl-data/stylelib/_classic_test_patch.mplstyle.\n",
      "You probably need to get an updated matplotlibrc file from\n",
      "http://github.com/matplotlib/matplotlib/blob/master/matplotlibrc.template\n",
      "or from the matplotlib source distribution\n"
     ]
    }
   ],
   "source": [
    "# load data\n",
    "import numpy as np\n",
    "import pandas as pd\n",
    "from datetime import datetime \n",
    "from IPython.display import display, HTML\n",
    "import statistics \n",
    "\n",
    "from fairlearn.reductions import ExponentiatedGradient\n",
    "from sklearn.preprocessing import LabelEncoder, StandardScaler, MinMaxScaler\n",
    "from tempeh.configurations import datasets\n",
    "\n",
    "compas_dataset = datasets['compas']()\n",
    "X_train_all, X_test = compas_dataset.get_X(format=pd.DataFrame)\n",
    "y_train_all, y_test = compas_dataset.get_y(format=pd.Series)\n",
    "A_train_all, A_test = compas_dataset.get_sensitive_features('race', format=pd.Series)\n",
    "\n",
    "# Combine all training data into a single data frame and glance at a few rows\n",
    "train_all = pd.concat([X_train_all, y_train_all, A_train_all], axis=1)"
   ]
  },
  {
   "cell_type": "code",
   "execution_count": 2,
   "metadata": {
    "colab": {},
    "colab_type": "code",
    "id": "TUCUzcUEpo0X"
   },
   "outputs": [],
   "source": [
    "# Subsampling process\n",
    "fractions = [0.005, 0.1, 0.25]\n",
    "eps = 0.05"
   ]
  },
  {
   "cell_type": "code",
   "execution_count": 3,
   "metadata": {
    "colab": {
     "base_uri": "https://localhost:8080/",
     "height": 98
    },
    "colab_type": "code",
    "executionInfo": {
     "elapsed": 8581,
     "status": "ok",
     "timestamp": 1590687763017,
     "user": {
      "displayName": "Parul Gupta",
      "photoUrl": "https://lh3.googleusercontent.com/a-/AOh14Gjzx9Gg7u--OtTsSQHEyX2mNCuOkuT12Eq4CYXf=s64",
      "userId": "14512472131783578125"
     },
     "user_tz": 240
    },
    "id": "bDOrYnBHpo0t",
    "outputId": "5b541328-d734-47fc-c9d1-d18fdc634620"
   },
   "outputs": [
    {
     "data": {
      "text/plain": [
       "LogisticRegression(solver='liblinear')"
      ]
     },
     "execution_count": 3,
     "metadata": {},
     "output_type": "execute_result"
    }
   ],
   "source": [
    "#Unmitigated LogRes\n",
    "from sklearn.linear_model import LogisticRegression\n",
    "logistic_learner = LogisticRegression(solver='liblinear', fit_intercept=True)\n",
    "logistic_learner.fit(X_train_all, y_train_all)"
   ]
  },
  {
   "cell_type": "code",
   "execution_count": 4,
   "metadata": {
    "colab": {},
    "colab_type": "code",
    "id": "viYu_QpWpo0-"
   },
   "outputs": [],
   "source": [
    "from fairlearn.reductions import ExponentiatedGradient\n",
    "from fairlearn.reductions import GridSearch, DemographicParity, ErrorRate\n",
    "import numpy as np\n",
    "\n",
    "import matplotlib.pyplot as plt"
   ]
  },
  {
   "cell_type": "code",
   "execution_count": 5,
   "metadata": {
    "colab": {
     "base_uri": "https://localhost:8080/",
     "height": 32
    },
    "colab_type": "code",
    "executionInfo": {
     "elapsed": 8541,
     "status": "ok",
     "timestamp": 1590687763019,
     "user": {
      "displayName": "Parul Gupta",
      "photoUrl": "https://lh3.googleusercontent.com/a-/AOh14Gjzx9Gg7u--OtTsSQHEyX2mNCuOkuT12Eq4CYXf=s64",
      "userId": "14512472131783578125"
     },
     "user_tz": 240
    },
    "id": "flM3GLNypo1J",
    "outputId": "ad56665b-8ea7-4296-9a26-e8610c56367c"
   },
   "outputs": [
    {
     "name": "stdout",
     "output_type": "stream",
     "text": [
      "Logistic Regression - Violation: 0.15129907254478464, Error: 0.33455882352941174\n"
     ]
    }
   ],
   "source": [
    "# Error & Violation of unmitigated estimator\n",
    "def UnmitLogistic(X): return logistic_learner.predict(X)\n",
    "# violation\n",
    "disparity_moment = DemographicParity()\n",
    "disparity_moment.load_data(X_train_all, y_train_all,\n",
    "                           sensitive_features=A_train_all)\n",
    "log_vio_unmitigated = disparity_moment.gamma(UnmitLogistic).max()\n",
    "\n",
    "# error\n",
    "error = ErrorRate()\n",
    "error.load_data(X_train_all, y_train_all, sensitive_features=A_train_all)\n",
    "log_error_unmitigated = error.gamma(UnmitLogistic)[0]\n",
    "print('Logistic Regression - Violation: {}, Error: {}'.format(\n",
    "    log_vio_unmitigated, log_error_unmitigated))"
   ]
  },
  {
   "cell_type": "code",
   "execution_count": 6,
   "metadata": {
    "colab": {
     "base_uri": "https://localhost:8080/",
     "height": 32
    },
    "colab_type": "code",
    "executionInfo": {
     "elapsed": 72201,
     "status": "ok",
     "timestamp": 1590687826707,
     "user": {
      "displayName": "Parul Gupta",
      "photoUrl": "https://lh3.googleusercontent.com/a-/AOh14Gjzx9Gg7u--OtTsSQHEyX2mNCuOkuT12Eq4CYXf=s64",
      "userId": "14512472131783578125"
     },
     "user_tz": 240
    },
    "id": "u375SXfvpo1V",
    "outputId": "1295db6a-c267-4e2f-aa9f-b285c2f4143a"
   },
   "outputs": [
    {
     "name": "stdout",
     "output_type": "stream",
     "text": [
      "Exponentiated gradient on full dataset : Violation: 0.05000000000000043; Errror: 0.391800773607157\n"
     ]
    }
   ],
   "source": [
    "# Expgrad on full dataset\n",
    "expgrad_X_logistic = ExponentiatedGradient(\n",
    "    LogisticRegression(solver='liblinear', fit_intercept=True),\n",
    "    constraints=DemographicParity(), eps=eps, nu=1e-6)\n",
    "\n",
    "expgrad_X_logistic.fit(X_train_all, y_train_all,\n",
    "                       sensitive_features=A_train_all)\n",
    "\n",
    "# Overall prediction value\n",
    "def Qexp_all(X): return expgrad_X_logistic._pmf_predict(X)[:, 1]\n",
    "# violation of log res\n",
    "disparity_moment = DemographicParity()\n",
    "disparity_moment.load_data(X_train_all, y_train_all,\n",
    "                           sensitive_features=A_train_all)\n",
    "vio_expgrad_all = disparity_moment.gamma(Qexp_all).max()\n",
    "\n",
    "# error of log res\n",
    "error = ErrorRate()\n",
    "error.load_data(X_train_all, y_train_all,\n",
    "                sensitive_features=A_train_all)\n",
    "error_expgrad_all = error.gamma(Qexp_all)[0]\n",
    "\n",
    "print('Exponentiated gradient on full dataset : Violation: {}; Errror: {}'.format(\n",
    "    vio_expgrad_all, error_expgrad_all))"
   ]
  },
  {
   "cell_type": "code",
   "execution_count": 7,
   "metadata": {},
   "outputs": [],
   "source": [
    "predictors = expgrad_X_logistic._predictors\n",
    "\n",
    "# Saving all predictors from exp grad all\n",
    "log_error_expgrad_all = []\n",
    "log_vio_expgrad_all = []\n",
    "\n",
    "for i in predictors:\n",
    "    def Qlog(X): return i.predict(X)\n",
    "    # error of log res\n",
    "    error = ErrorRate()\n",
    "    error.load_data(X_train_all, y_train_all, sensitive_features=A_train_all)\n",
    "    e = error.gamma(Qlog)[0]\n",
    "    log_error_expgrad_all.append(e)\n",
    "\n",
    "    # violation of log res\n",
    "    disparity_moment = DemographicParity()\n",
    "    disparity_moment.load_data(X_train_all, y_train_all, sensitive_features=A_train_all)\n",
    "    v = disparity_moment.gamma(Qlog).max()\n",
    "    log_vio_expgrad_all.append(v)"
   ]
  },
  {
   "cell_type": "code",
   "execution_count": 8,
   "metadata": {},
   "outputs": [],
   "source": [
    "def _pmf_predict(X, predictors, weights):\n",
    "    pred = pd.DataFrame()\n",
    "    for t in range(len(predictors)):\n",
    "        pred[t] = predictors[t].predict(X)\n",
    "    positive_probs = pred[weights.index].dot(weights).to_frame()\n",
    "    return np.concatenate((1-positive_probs, positive_probs), axis=1)"
   ]
  },
  {
   "cell_type": "code",
   "execution_count": 9,
   "metadata": {
    "colab": {
     "base_uri": "https://localhost:8080/",
     "height": 49
    },
    "colab_type": "code",
    "executionInfo": {
     "elapsed": 4366547,
     "status": "ok",
     "timestamp": 1590692121099,
     "user": {
      "displayName": "Parul Gupta",
      "photoUrl": "https://lh3.googleusercontent.com/a-/AOh14Gjzx9Gg7u--OtTsSQHEyX2mNCuOkuT12Eq4CYXf=s64",
      "userId": "14512472131783578125"
     },
     "user_tz": 240
    },
    "id": "z342IjjUpo1b",
    "outputId": "7925fc00-82fc-4b63-b58a-253a59187465",
    "scrolled": false
   },
   "outputs": [
    {
     "data": {
      "image/png": "[encoded data removed]",
      "text/plain": [
       "<Figure size 432x288 with 1 Axes>"
      ]
     },
     "metadata": {
      "needs_background": "light"
     },
     "output_type": "display_data"
    },
    {
     "name": "stdout",
     "output_type": "stream",
     "text": [
      "Model\t\t\t\tViolation\tError\n",
      "unmitigated log res\t\t0.1513\t\t0.33456\n",
      "\n",
      "expgrad full dataset (combined)\t0.05\t\t0.3918\n",
      "expgrad full dataset0\t\t0.1513\t\t0.1513\n",
      "expgrad full dataset1\t\t0.14469\t\t0.14469\n",
      "expgrad full dataset2\t\t0.16301\t\t0.16301\n",
      "expgrad full dataset3\t\t0.1386\t\t0.1386\n",
      "expgrad full dataset4\t\t0.07441\t\t0.07441\n",
      "expgrad full dataset5\t\t0.11519\t\t0.11519\n",
      "expgrad full dataset6\t\t0.15168\t\t0.15168\n",
      "expgrad full dataset7\t\t0.16373\t\t0.16373\n",
      "expgrad full dataset8\t\t0.13007\t\t0.13007\n",
      "\n",
      "expgrad partial (combined)\t0.10185\t\t0.3814\n",
      "expgrad partial dataset0\t0.11341\t\t0.35209\n",
      "expgrad partial dataset1\t0.0663\t\t0.58569\n",
      "expgrad partial dataset2\t0.02565\t\t0.46578\n",
      "expgrad partial dataset3\t0.12397\t\t0.3569\n",
      "expgrad partial dataset4\t0.03295\t\t0.5526\n",
      "\n",
      "hybrid (combined)\t\t0.09136\t\t0.37776\n",
      "expgrad full dataset0\t\t0.1513\t\t0.33456\n",
      "expgrad full dataset1\t\t0.16142\t\t0.64225\n",
      "expgrad full dataset2\t\t0.09192\t\t0.5246\n",
      "expgrad full dataset3\t\t0.14457\t\t0.33512\n",
      "expgrad full dataset4\t\t0.16092\t\t0.61199\n"
     ]
    },
    {
     "data": {
      "image/png": "[encoded data removed]",
      "text/plain": [
       "<Figure size 432x288 with 1 Axes>"
      ]
     },
     "metadata": {
      "needs_background": "light"
     },
     "output_type": "display_data"
    },
    {
     "name": "stdout",
     "output_type": "stream",
     "text": [
      "Model\t\t\t\tViolation\tError\n",
      "unmitigated log res\t\t0.1513\t\t0.33456\n",
      "\n",
      "expgrad full dataset (combined)\t0.05\t\t0.3918\n",
      "expgrad full dataset0\t\t0.1513\t\t0.1513\n",
      "expgrad full dataset1\t\t0.14469\t\t0.14469\n",
      "expgrad full dataset2\t\t0.16301\t\t0.16301\n",
      "expgrad full dataset3\t\t0.1386\t\t0.1386\n",
      "expgrad full dataset4\t\t0.07441\t\t0.07441\n",
      "expgrad full dataset5\t\t0.11519\t\t0.11519\n",
      "expgrad full dataset6\t\t0.15168\t\t0.15168\n",
      "expgrad full dataset7\t\t0.16373\t\t0.16373\n",
      "expgrad full dataset8\t\t0.13007\t\t0.13007\n",
      "\n",
      "expgrad partial (combined)\t0.04553\t\t0.40869\n",
      "expgrad partial dataset0\t0.13727\t\t0.35775\n",
      "expgrad partial dataset1\t0.12398\t\t0.34898\n",
      "expgrad partial dataset2\t0.16214\t\t0.65809\n",
      "expgrad partial dataset3\t0.09038\t\t0.3634\n",
      "expgrad partial dataset4\t0.12226\t\t0.55684\n",
      "expgrad partial dataset5\t0.08658\t\t0.37245\n",
      "expgrad partial dataset6\t0.14891\t\t0.59813\n",
      "\n",
      "hybrid (combined)\t\t0.08678\t\t0.36574\n",
      "expgrad full dataset0\t\t0.1513\t\t0.33456\n",
      "expgrad full dataset1\t\t0.14608\t\t0.3405\n",
      "expgrad full dataset2\t\t0.16142\t\t0.64225\n",
      "expgrad full dataset3\t\t0.13953\t\t0.33173\n",
      "expgrad full dataset4\t\t0.07526\t\t0.50707\n",
      "expgrad full dataset5\t\t0.12642\t\t0.33117\n",
      "expgrad full dataset6\t\t0.1406\t\t0.5707\n"
     ]
    },
    {
     "data": {
      "image/png": "[encoded data removed]",
      "text/plain": [
       "<Figure size 432x288 with 1 Axes>"
      ]
     },
     "metadata": {
      "needs_background": "light"
     },
     "output_type": "display_data"
    },
    {
     "name": "stdout",
     "output_type": "stream",
     "text": [
      "Model\t\t\t\tViolation\tError\n",
      "unmitigated log res\t\t0.1513\t\t0.33456\n",
      "\n",
      "expgrad full dataset (combined)\t0.05\t\t0.3918\n",
      "expgrad full dataset0\t\t0.1513\t\t0.1513\n",
      "expgrad full dataset1\t\t0.14469\t\t0.14469\n",
      "expgrad full dataset2\t\t0.16301\t\t0.16301\n",
      "expgrad full dataset3\t\t0.1386\t\t0.1386\n",
      "expgrad full dataset4\t\t0.07441\t\t0.07441\n",
      "expgrad full dataset5\t\t0.11519\t\t0.11519\n",
      "expgrad full dataset6\t\t0.15168\t\t0.15168\n",
      "expgrad full dataset7\t\t0.16373\t\t0.16373\n",
      "expgrad full dataset8\t\t0.13007\t\t0.13007\n",
      "\n",
      "expgrad partial (combined)\t0.07682\t\t0.41312\n",
      "expgrad partial dataset0\t0.16194\t\t0.34304\n",
      "expgrad partial dataset1\t0.16127\t\t0.34304\n",
      "expgrad partial dataset2\t0.16314\t\t0.65158\n",
      "expgrad partial dataset3\t0.00535\t\t0.47115\n",
      "expgrad partial dataset4\t0.13965\t\t0.3552\n",
      "expgrad partial dataset5\t0.06081\t\t0.42788\n",
      "expgrad partial dataset6\t0.10775\t\t0.56957\n",
      "expgrad partial dataset7\t0.15248\t\t0.34417\n",
      "\n",
      "hybrid (combined)\t\t0.06623\t\t0.38938\n",
      "expgrad full dataset0\t\t0.1513\t\t0.33456\n",
      "expgrad full dataset1\t\t0.14544\t\t0.33399\n",
      "expgrad full dataset2\t\t0.16142\t\t0.64225\n",
      "expgrad full dataset3\t\t0.03376\t\t0.46465\n",
      "expgrad full dataset4\t\t0.09634\t\t0.34926\n",
      "expgrad full dataset5\t\t0.05855\t\t0.3996\n",
      "expgrad full dataset6\t\t0.09187\t\t0.52291\n",
      "expgrad full dataset7\t\t0.12457\t\t0.33286\n"
     ]
    }
   ],
   "source": [
    "# hybrid model\n",
    "\n",
    "# Iterations on difference fractions\n",
    "for i,f in enumerate(fractions):\n",
    "    log_error_expgrad_fracs = []\n",
    "    log_error_hybrids = []\n",
    "    log_vio_expgrad_fracs = []\n",
    "    log_vio_hybrids = []\n",
    "    # get samples\n",
    "    subsampling = train_all.sample(frac=f)\n",
    "    subsampling = subsampling.reset_index()\n",
    "    subsampling = subsampling.drop(columns=['index'])\n",
    "    tmp = subsampling.iloc[:, :-1]\n",
    "    A_train = subsampling.iloc[:, -1]\n",
    "    X_train = tmp.iloc[:, :-1]\n",
    "    y_train = tmp.iloc[:,-1]\n",
    "    # Expgrad on sub dataset\n",
    "    expgrad_X_logistic_frac = ExponentiatedGradient(\n",
    "        LogisticRegression(solver='liblinear', fit_intercept=True),\n",
    "        constraints=DemographicParity(), eps=eps, nu=1e-6)\n",
    "\n",
    "    expgrad_X_logistic_frac.fit(X_train, y_train, sensitive_features=A_train)\n",
    "    \n",
    "    # Overall output of exp grad on partial\n",
    "    def Qexp(X): return expgrad_X_logistic_frac._pmf_predict(X)[:, 1]\n",
    "    # violation of log res\n",
    "    disparity_moment = DemographicParity()\n",
    "    disparity_moment.load_data(X_train_all, y_train_all,\n",
    "                               sensitive_features=A_train_all)\n",
    "    vio_expgrad_frac = disparity_moment.gamma(Qexp).max()\n",
    "\n",
    "    # error of log res\n",
    "    error = ErrorRate()\n",
    "    error.load_data(X_train_all, y_train_all,\n",
    "                    sensitive_features=A_train_all)\n",
    "    error_expgrad_frac = error.gamma(Qexp)[0]\n",
    "\n",
    "    # Per predictor output\n",
    "    exp_predictors = expgrad_X_logistic_frac._predictors\n",
    "    for i in exp_predictors:\n",
    "        def Qlog(X): return i.predict(X)\n",
    "        # error of log res\n",
    "        error = ErrorRate()\n",
    "        error.load_data(X_train_all, y_train_all, sensitive_features=A_train_all)\n",
    "        e = error.gamma(Qlog)[0]\n",
    "        log_error_expgrad_fracs.append(e)\n",
    "        # violation of log res\n",
    "        disparity_moment = DemographicParity()\n",
    "        disparity_moment.load_data(X_train_all, y_train_all, sensitive_features=A_train_all)\n",
    "        v = disparity_moment.gamma(Qlog).max()\n",
    "        log_vio_expgrad_fracs.append(v)\n",
    "\n",
    "    _wts_log = expgrad_X_logistic_frac._weights\n",
    "\n",
    "\n",
    "    # Grid Search part\n",
    "    lambda_vecs_logistic = expgrad_X_logistic_frac._lambda_vecs_lagrangian\n",
    "    grid_search_logistic_frac = GridSearch(\n",
    "        LogisticRegression(solver='liblinear', fit_intercept=True),\n",
    "        constraints=DemographicParity(), grid=lambda_vecs_logistic)\n",
    "    grid_search_logistic_frac.fit(X_train_all, y_train_all,\n",
    "                                  sensitive_features=A_train_all)\n",
    "    \n",
    "    grid_predictors = grid_search_logistic_frac._predictors\n",
    "    # Overall prediction output\n",
    "    def Qgrid(X): return _pmf_predict(X, grid_predictors, _wts_log)[:,1]\n",
    "    # violation of log res\n",
    "    disparity_moment = DemographicParity()\n",
    "    disparity_moment.load_data(X_train_all, y_train_all,\n",
    "                               sensitive_features=A_train_all)\n",
    "    vio_hybrid = disparity_moment.gamma(Qgrid).max()\n",
    "\n",
    "    # error of log res\n",
    "    error = ErrorRate()\n",
    "    error.load_data(X_train_all, y_train_all,\n",
    "                    sensitive_features=A_train_all)\n",
    "    error_hybrid = error.gamma(Qgrid)['all']\n",
    "\n",
    "    for i in grid_predictors:\n",
    "        def Qlog(X): return i.predict(X)\n",
    "        # error of log res\n",
    "        error = ErrorRate()\n",
    "        error.load_data(X_train_all, y_train_all, sensitive_features=A_train_all)\n",
    "        e = error.gamma(Qlog)[0]\n",
    "        log_error_hybrids.append(e)\n",
    "        # violation of log res\n",
    "        disparity_moment = DemographicParity()\n",
    "        disparity_moment.load_data(X_train_all, y_train_all, sensitive_features=A_train_all)\n",
    "        v = disparity_moment.gamma(Qlog).max()\n",
    "        log_vio_hybrids.append(v)\n",
    "\n",
    "    # Plot the predictors\n",
    "    plt.plot(log_vio_unmitigated, log_error_unmitigated,'ko',label=\"unmitigated log res\")\n",
    "    plt.plot(vio_expgrad_all, error_expgrad_all,'go',label=\"expgrad full dataset (combined)\")\n",
    "    plt.plot(log_vio_expgrad_all, log_vio_expgrad_all, 'yo', label=\"expgrad full dataset\")\n",
    "\n",
    "    plt.plot(vio_expgrad_frac, error_expgrad_frac, 'mo', label=\"expgrad partial (combined)\")\n",
    "    plt.plot(log_vio_expgrad_fracs, log_error_expgrad_fracs, 'ro', label=\"expgrad partial\")\n",
    "\n",
    "    plt.plot(vio_hybrid, error_hybrid,'bo',label=\"hybrid (combined)\")\n",
    "    plt.plot(log_vio_hybrids, log_error_hybrids,'co',label=\"hybrid predictors\")\n",
    "\n",
    "    plt.xlabel('Violation of the fairness constraint')\n",
    "    plt.ylabel('Error')\n",
    "    plt.title('Adult Uci/DP difference/log res/Fraction={}'.format(f))\n",
    "    plt.legend()\n",
    "    plt.grid()\n",
    "    plt.show()\n",
    "    \n",
    "    print('{}\\t\\t\\t\\t{}\\t{}'.format('Model', 'Violation', 'Error'))\n",
    "    print('{}\\t\\t{}\\t\\t{}'.format('unmitigated log res', round(log_vio_unmitigated,5), round(log_error_unmitigated,5)))\n",
    "    print('')\n",
    "    print('{}\\t{}\\t\\t{}'.format('expgrad full dataset (combined)', round(vio_expgrad_all,5), round(error_expgrad_all,5)))\n",
    "    for i in range(len(log_vio_expgrad_all)):\n",
    "        print('{}{}\\t\\t{}\\t\\t{}'.format('expgrad full dataset', i, round(log_vio_expgrad_all[i],5), \n",
    "                                      round(log_vio_expgrad_all[i],5)))\n",
    "\n",
    "    print('')\n",
    "    print('{}\\t{}\\t\\t{}'.format('expgrad partial (combined)', round(vio_expgrad_frac,5), round(error_expgrad_frac,5)))\n",
    "    for i in range(len(log_vio_expgrad_fracs)):\n",
    "        print('{}{}\\t{}\\t\\t{}'.format('expgrad partial dataset', i, round(log_vio_expgrad_fracs[i],5), \n",
    "                                    round(log_error_expgrad_fracs[i],5)))\n",
    "\n",
    "    print('')\n",
    "    print('{}\\t\\t{}\\t\\t{}'.format('hybrid (combined)', round(vio_hybrid,5), round(error_hybrid,5)))\n",
    "    for i in range(len(log_vio_hybrids)):\n",
    "        print('{}{}\\t\\t{}\\t\\t{}'.format('expgrad full dataset', i, round(log_vio_hybrids[i],5), round(log_error_hybrids[i],5)))\n",
    "\n",
    "\n",
    "    "
   ]
  },
  {
   "cell_type": "code",
   "execution_count": null,
   "metadata": {},
   "outputs": [],
   "source": []
  },
  {
   "cell_type": "code",
   "execution_count": null,
   "metadata": {},
   "outputs": [],
   "source": []
  }
 ],
 "metadata": {
  "colab": {
   "name": "hybrid-lagrangian.ipynb",
   "provenance": []
  },
  "kernelspec": {
   "display_name": "Python 3",
   "language": "python",
   "name": "python3"
  },
  "language_info": {
   "codemirror_mode": {
    "name": "ipython",
    "version": 3
   },
   "file_extension": ".py",
   "mimetype": "text/x-python",
   "name": "python",
   "nbconvert_exporter": "python",
   "pygments_lexer": "ipython3",
   "version": "3.7.3"
  }
 },
 "nbformat": 4,
 "nbformat_minor": 1
}
