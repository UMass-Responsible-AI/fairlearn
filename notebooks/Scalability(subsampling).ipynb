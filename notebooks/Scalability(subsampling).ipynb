{
 "cells": [
  {
   "cell_type": "code",
   "execution_count": 1,
   "metadata": {},
   "outputs": [
    {
     "data": {
      "text/html": [
       "<div>\n",
       "<style scoped>\n",
       "    .dataframe tbody tr th:only-of-type {\n",
       "        vertical-align: middle;\n",
       "    }\n",
       "\n",
       "    .dataframe tbody tr th {\n",
       "        vertical-align: top;\n",
       "    }\n",
       "\n",
       "    .dataframe thead th {\n",
       "        text-align: right;\n",
       "    }\n",
       "</style>\n",
       "<table border=\"1\" class=\"dataframe\">\n",
       "  <thead>\n",
       "    <tr style=\"text-align: right;\">\n",
       "      <th></th>\n",
       "      <th>Age</th>\n",
       "      <th>Workclass</th>\n",
       "      <th>Education-Num</th>\n",
       "      <th>Marital Status</th>\n",
       "      <th>Occupation</th>\n",
       "      <th>Relationship</th>\n",
       "      <th>Race</th>\n",
       "      <th>Sex</th>\n",
       "      <th>Capital Gain</th>\n",
       "      <th>Capital Loss</th>\n",
       "      <th>Hours per week</th>\n",
       "      <th>Country</th>\n",
       "      <th>y</th>\n",
       "      <th>Sex</th>\n",
       "    </tr>\n",
       "  </thead>\n",
       "  <tbody>\n",
       "    <tr>\n",
       "      <th>0</th>\n",
       "      <td>52.0</td>\n",
       "      <td>4.0</td>\n",
       "      <td>13.0</td>\n",
       "      <td>2.0</td>\n",
       "      <td>4.0</td>\n",
       "      <td>4.0</td>\n",
       "      <td>4.0</td>\n",
       "      <td>1.0</td>\n",
       "      <td>99999.0</td>\n",
       "      <td>0.0</td>\n",
       "      <td>50.0</td>\n",
       "      <td>39.0</td>\n",
       "      <td>1</td>\n",
       "      <td>1.0</td>\n",
       "    </tr>\n",
       "    <tr>\n",
       "      <th>1</th>\n",
       "      <td>58.0</td>\n",
       "      <td>2.0</td>\n",
       "      <td>12.0</td>\n",
       "      <td>6.0</td>\n",
       "      <td>1.0</td>\n",
       "      <td>0.0</td>\n",
       "      <td>2.0</td>\n",
       "      <td>0.0</td>\n",
       "      <td>0.0</td>\n",
       "      <td>0.0</td>\n",
       "      <td>40.0</td>\n",
       "      <td>39.0</td>\n",
       "      <td>0</td>\n",
       "      <td>0.0</td>\n",
       "    </tr>\n",
       "    <tr>\n",
       "      <th>2</th>\n",
       "      <td>52.0</td>\n",
       "      <td>4.0</td>\n",
       "      <td>9.0</td>\n",
       "      <td>4.0</td>\n",
       "      <td>12.0</td>\n",
       "      <td>0.0</td>\n",
       "      <td>4.0</td>\n",
       "      <td>0.0</td>\n",
       "      <td>0.0</td>\n",
       "      <td>0.0</td>\n",
       "      <td>36.0</td>\n",
       "      <td>39.0</td>\n",
       "      <td>0</td>\n",
       "      <td>0.0</td>\n",
       "    </tr>\n",
       "    <tr>\n",
       "      <th>3</th>\n",
       "      <td>42.0</td>\n",
       "      <td>4.0</td>\n",
       "      <td>9.0</td>\n",
       "      <td>5.0</td>\n",
       "      <td>12.0</td>\n",
       "      <td>1.0</td>\n",
       "      <td>4.0</td>\n",
       "      <td>0.0</td>\n",
       "      <td>0.0</td>\n",
       "      <td>0.0</td>\n",
       "      <td>45.0</td>\n",
       "      <td>39.0</td>\n",
       "      <td>0</td>\n",
       "      <td>0.0</td>\n",
       "    </tr>\n",
       "    <tr>\n",
       "      <th>4</th>\n",
       "      <td>65.0</td>\n",
       "      <td>6.0</td>\n",
       "      <td>9.0</td>\n",
       "      <td>2.0</td>\n",
       "      <td>4.0</td>\n",
       "      <td>4.0</td>\n",
       "      <td>4.0</td>\n",
       "      <td>1.0</td>\n",
       "      <td>0.0</td>\n",
       "      <td>0.0</td>\n",
       "      <td>59.0</td>\n",
       "      <td>39.0</td>\n",
       "      <td>1</td>\n",
       "      <td>1.0</td>\n",
       "    </tr>\n",
       "    <tr>\n",
       "      <th>...</th>\n",
       "      <td>...</td>\n",
       "      <td>...</td>\n",
       "      <td>...</td>\n",
       "      <td>...</td>\n",
       "      <td>...</td>\n",
       "      <td>...</td>\n",
       "      <td>...</td>\n",
       "      <td>...</td>\n",
       "      <td>...</td>\n",
       "      <td>...</td>\n",
       "      <td>...</td>\n",
       "      <td>...</td>\n",
       "      <td>...</td>\n",
       "      <td>...</td>\n",
       "    </tr>\n",
       "    <tr>\n",
       "      <th>10903</th>\n",
       "      <td>45.0</td>\n",
       "      <td>6.0</td>\n",
       "      <td>9.0</td>\n",
       "      <td>2.0</td>\n",
       "      <td>12.0</td>\n",
       "      <td>4.0</td>\n",
       "      <td>4.0</td>\n",
       "      <td>1.0</td>\n",
       "      <td>15024.0</td>\n",
       "      <td>0.0</td>\n",
       "      <td>80.0</td>\n",
       "      <td>39.0</td>\n",
       "      <td>1</td>\n",
       "      <td>1.0</td>\n",
       "    </tr>\n",
       "    <tr>\n",
       "      <th>10904</th>\n",
       "      <td>45.0</td>\n",
       "      <td>4.0</td>\n",
       "      <td>14.0</td>\n",
       "      <td>2.0</td>\n",
       "      <td>4.0</td>\n",
       "      <td>4.0</td>\n",
       "      <td>4.0</td>\n",
       "      <td>1.0</td>\n",
       "      <td>0.0</td>\n",
       "      <td>1902.0</td>\n",
       "      <td>50.0</td>\n",
       "      <td>39.0</td>\n",
       "      <td>1</td>\n",
       "      <td>1.0</td>\n",
       "    </tr>\n",
       "    <tr>\n",
       "      <th>10905</th>\n",
       "      <td>57.0</td>\n",
       "      <td>0.0</td>\n",
       "      <td>9.0</td>\n",
       "      <td>0.0</td>\n",
       "      <td>0.0</td>\n",
       "      <td>3.0</td>\n",
       "      <td>1.0</td>\n",
       "      <td>1.0</td>\n",
       "      <td>0.0</td>\n",
       "      <td>0.0</td>\n",
       "      <td>20.0</td>\n",
       "      <td>39.0</td>\n",
       "      <td>0</td>\n",
       "      <td>1.0</td>\n",
       "    </tr>\n",
       "    <tr>\n",
       "      <th>10906</th>\n",
       "      <td>28.0</td>\n",
       "      <td>4.0</td>\n",
       "      <td>5.0</td>\n",
       "      <td>4.0</td>\n",
       "      <td>7.0</td>\n",
       "      <td>0.0</td>\n",
       "      <td>4.0</td>\n",
       "      <td>1.0</td>\n",
       "      <td>0.0</td>\n",
       "      <td>0.0</td>\n",
       "      <td>50.0</td>\n",
       "      <td>6.0</td>\n",
       "      <td>0</td>\n",
       "      <td>1.0</td>\n",
       "    </tr>\n",
       "    <tr>\n",
       "      <th>10907</th>\n",
       "      <td>55.0</td>\n",
       "      <td>4.0</td>\n",
       "      <td>10.0</td>\n",
       "      <td>2.0</td>\n",
       "      <td>14.0</td>\n",
       "      <td>4.0</td>\n",
       "      <td>4.0</td>\n",
       "      <td>1.0</td>\n",
       "      <td>0.0</td>\n",
       "      <td>0.0</td>\n",
       "      <td>24.0</td>\n",
       "      <td>39.0</td>\n",
       "      <td>1</td>\n",
       "      <td>1.0</td>\n",
       "    </tr>\n",
       "  </tbody>\n",
       "</table>\n",
       "<p>10908 rows × 14 columns</p>\n",
       "</div>"
      ],
      "text/plain": [
       "        Age  Workclass  Education-Num  Marital Status  Occupation  \\\n",
       "0      52.0        4.0           13.0             2.0         4.0   \n",
       "1      58.0        2.0           12.0             6.0         1.0   \n",
       "2      52.0        4.0            9.0             4.0        12.0   \n",
       "3      42.0        4.0            9.0             5.0        12.0   \n",
       "4      65.0        6.0            9.0             2.0         4.0   \n",
       "...     ...        ...            ...             ...         ...   \n",
       "10903  45.0        6.0            9.0             2.0        12.0   \n",
       "10904  45.0        4.0           14.0             2.0         4.0   \n",
       "10905  57.0        0.0            9.0             0.0         0.0   \n",
       "10906  28.0        4.0            5.0             4.0         7.0   \n",
       "10907  55.0        4.0           10.0             2.0        14.0   \n",
       "\n",
       "       Relationship  Race  Sex  Capital Gain  Capital Loss  Hours per week  \\\n",
       "0               4.0   4.0  1.0       99999.0           0.0            50.0   \n",
       "1               0.0   2.0  0.0           0.0           0.0            40.0   \n",
       "2               0.0   4.0  0.0           0.0           0.0            36.0   \n",
       "3               1.0   4.0  0.0           0.0           0.0            45.0   \n",
       "4               4.0   4.0  1.0           0.0           0.0            59.0   \n",
       "...             ...   ...  ...           ...           ...             ...   \n",
       "10903           4.0   4.0  1.0       15024.0           0.0            80.0   \n",
       "10904           4.0   4.0  1.0           0.0        1902.0            50.0   \n",
       "10905           3.0   1.0  1.0           0.0           0.0            20.0   \n",
       "10906           0.0   4.0  1.0           0.0           0.0            50.0   \n",
       "10907           4.0   4.0  1.0           0.0           0.0            24.0   \n",
       "\n",
       "       Country  y  Sex  \n",
       "0         39.0  1  1.0  \n",
       "1         39.0  0  0.0  \n",
       "2         39.0  0  0.0  \n",
       "3         39.0  0  0.0  \n",
       "4         39.0  1  1.0  \n",
       "...        ... ..  ...  \n",
       "10903     39.0  1  1.0  \n",
       "10904     39.0  1  1.0  \n",
       "10905     39.0  0  1.0  \n",
       "10906      6.0  0  1.0  \n",
       "10907     39.0  1  1.0  \n",
       "\n",
       "[10908 rows x 14 columns]"
      ]
     },
     "metadata": {},
     "output_type": "display_data"
    }
   ],
   "source": [
    "import numpy as np\n",
    "import pandas as pd\n",
    "from datetime import datetime \n",
    "from IPython.display import display, HTML\n",
    "\n",
    "# Load the data using the tempeh package\n",
    "from tempeh.configurations import datasets\n",
    "dataset = datasets['adult_uci']()\n",
    "\n",
    "X_train, X_test = dataset.get_X(format=pd.DataFrame)\n",
    "A_train, A_test = X_train.get(key='Sex'), X_test.get(key='Sex')\n",
    "\n",
    "\n",
    "y_train, y_test = dataset.get_y(format=pd.Series)\n",
    "\n",
    "# Combine all training data into a single data frame and glance at a few rows\n",
    "all_train = pd.concat([X_train, y_train, A_train], axis=1)\n",
    "\n",
    "# Keep the complete dataset for grid search\n",
    "X_train_all = X_train\n",
    "y_train_all = y_train\n",
    "A_train_all = A_train\n",
    "\n",
    "# Subsampling process\n",
    "subsampling = all_train.sample(frac=0.5)\n",
    "subsampling = subsampling.reset_index()\n",
    "subsampling = subsampling.drop(columns=['index'])\n",
    "tmp = subsampling.iloc[:, :-1]\n",
    "A_train = subsampling.iloc[:, -1]\n",
    "X_train = tmp.iloc[:, :-1]\n",
    "y_train = tmp.iloc[:,-1]\n",
    "all_train = pd.concat([X_train, y_train, A_train], axis=1)\n",
    "\n",
    "display(all_train)"
   ]
  },
  {
   "cell_type": "code",
   "execution_count": 2,
   "metadata": {},
   "outputs": [
    {
     "data": {
      "text/plain": [
       "LogisticRegression(C=1.0, class_weight=None, dual=False, fit_intercept=True,\n",
       "                   intercept_scaling=1, l1_ratio=None, max_iter=100,\n",
       "                   multi_class='auto', n_jobs=None, penalty='l2',\n",
       "                   random_state=None, solver='liblinear', tol=0.0001, verbose=0,\n",
       "                   warm_start=False)"
      ]
     },
     "execution_count": 2,
     "metadata": {},
     "output_type": "execute_result"
    }
   ],
   "source": [
    "from sklearn.linear_model import LogisticRegression\n",
    "logistic_learner = LogisticRegression(solver='liblinear', fit_intercept=True)\n",
    "logistic_learner.fit(X_train_all, y_train_all)"
   ]
  },
  {
   "cell_type": "code",
   "execution_count": 3,
   "metadata": {},
   "outputs": [
    {
     "data": {
      "text/plain": [
       "GradientBoostingClassifier(ccp_alpha=0.0, criterion='friedman_mse', init=None,\n",
       "                           learning_rate=0.1, loss='deviance', max_depth=3,\n",
       "                           max_features=None, max_leaf_nodes=None,\n",
       "                           min_impurity_decrease=0.0, min_impurity_split=None,\n",
       "                           min_samples_leaf=1, min_samples_split=2,\n",
       "                           min_weight_fraction_leaf=0.0, n_estimators=100,\n",
       "                           n_iter_no_change=None, presort='deprecated',\n",
       "                           random_state=None, subsample=1.0, tol=0.0001,\n",
       "                           validation_fraction=0.1, verbose=0,\n",
       "                           warm_start=False)"
      ]
     },
     "execution_count": 3,
     "metadata": {},
     "output_type": "execute_result"
    }
   ],
   "source": [
    "from sklearn.ensemble import GradientBoostingClassifier\n",
    "ensemble_learner = GradientBoostingClassifier()\n",
    "ensemble_learner.fit(X_train_all,y_train_all)"
   ]
  },
  {
   "cell_type": "code",
   "execution_count": 4,
   "metadata": {},
   "outputs": [],
   "source": [
    "from sklearn.metrics import balanced_accuracy_score\n",
    "\n",
    "def get_error(y,predicted_y):\n",
    "    correct_y = (y == predicted_y)\n",
    "    return 1 - sum(correct_y)/len(correct_y)\n",
    "\n",
    "def get_balanced_accuracy_score(y,predicted_y):\n",
    "    return balanced_accuracy_score(y,predicted_y)"
   ]
  },
  {
   "cell_type": "code",
   "execution_count": 5,
   "metadata": {},
   "outputs": [
    {
     "name": "stdout",
     "output_type": "stream",
     "text": [
      "The error for logistic learner is:\n",
      "[0.16053174421269767]\n",
      "The balanced accuracy score for logistic learner is:\n",
      "[0.7356317898241178]\n",
      "The error for gradient boosting learner is:\n",
      "[0.131056612422645]\n",
      "The balanced accuracy score for gradient boosting learner is:\n",
      "[0.7821891590209467]\n"
     ]
    }
   ],
   "source": [
    "logistic_y = pd.Series(logistic_learner.predict(X_train_all),name=\"logistic_learner_y\")\n",
    "error_logistic = [get_error(y_train_all,logistic_y)]\n",
    "accuracy_logistic = [get_balanced_accuracy_score(y_train_all,logistic_y)]\n",
    "\n",
    "ensemble_y = pd.Series(ensemble_learner.predict(X_train_all),name=\"ensemble_learner_y\")\n",
    "error_ensemble = [get_error(y_train_all,ensemble_y)]\n",
    "accuracy_ensemble = [get_balanced_accuracy_score(y_train_all,ensemble_y)]\n",
    "\n",
    "print(\"The error for logistic learner is:\")\n",
    "print(error_logistic)\n",
    "print(\"The balanced accuracy score for logistic learner is:\")\n",
    "print(accuracy_logistic)\n",
    "print(\"The error for gradient boosting learner is:\")\n",
    "print(error_ensemble)\n",
    "print(\"The balanced accuracy score for gradient boosting learner is:\")\n",
    "print(accuracy_ensemble)\n"
   ]
  },
  {
   "cell_type": "code",
   "execution_count": 6,
   "metadata": {},
   "outputs": [],
   "source": [
    "def get_violation(predict_y,A_test,label_name):\n",
    "    violations = []\n",
    "    predicted_and_sensitiveFeature = pd.concat([predict_y,A_test],axis=1)\n",
    "    grouped =predicted_and_sensitiveFeature.groupby('Sex')\n",
    "    counts_by_race = grouped[[label_name]].count()\n",
    "    passed_by_race = grouped[[label_name]].sum()\n",
    "\n",
    "    for i,group in enumerate(grouped.groups.keys()):\n",
    "        violation_1 = passed_by_race[label_name][i] / counts_by_race[label_name][i]\n",
    "        violation_2 = sum(predict_y) / len(predict_y)\n",
    "        violations.append(abs(violation_1 - violation_2))\n",
    "    violation = max(violations)\n",
    "    return violation"
   ]
  },
  {
   "cell_type": "code",
   "execution_count": 7,
   "metadata": {},
   "outputs": [
    {
     "name": "stdout",
     "output_type": "stream",
     "text": [
      "The violation for logistic learner is:\n",
      "[0.12357601699797435]\n",
      "The violation for gradient boosting learner is:\n",
      "[0.11070983887853014]\n"
     ]
    }
   ],
   "source": [
    "violation_logistic = [get_violation(logistic_y,A_train_all,\"logistic_learner_y\")]\n",
    "print(\"The violation for logistic learner is:\")\n",
    "print(violation_logistic)\n",
    "\n",
    "violation_ensemble = [get_violation(ensemble_y,A_train_all,\"ensemble_learner_y\")]\n",
    "print(\"The violation for gradient boosting learner is:\")\n",
    "print(violation_ensemble)"
   ]
  },
  {
   "cell_type": "code",
   "execution_count": 12,
   "metadata": {},
   "outputs": [],
   "source": [
    "from fairlearn.reductions import ExponentiatedGradient\n",
    "from fairlearn.reductions import GridSearch, DemographicParity\n",
    "import numpy as np\n",
    "\n",
    "expgrad_error_logistic = []\n",
    "expgrad_violation_logistic = []\n",
    "expgrad_accuracy_logistic = []\n",
    "\n",
    "expgrad_error_ensemble = []\n",
    "expgrad_violation_ensemble = []\n",
    "expgrad_accuracy_ensemble = []\n",
    "\n",
    "eps_list = [0.01]\n",
    "\n",
    "for eps in eps_list:\n",
    "    # Definition of expgrad for logistic learner\n",
    "    expgrad_X_logistic = ExponentiatedGradient(\n",
    "    LogisticRegression(solver='liblinear', fit_intercept=True),\n",
    "    constraints=DemographicParity(),\n",
    "    eps=eps,\n",
    "    nu=1e-6)\n",
    "    # Definition of expgrad for gradient boosting\n",
    "    expgrad_X_ensemble = ExponentiatedGradient(\n",
    "    GradientBoostingClassifier(),\n",
    "    constraints=DemographicParity(),\n",
    "    eps=eps,\n",
    "    nu=1e-6)\n",
    "    \n",
    "    a=datetime.now()  \n",
    "    expgrad_X_logistic.fit(\n",
    "    X_train,\n",
    "    y_train,\n",
    "    sensitive_features=A_train)\n",
    "    b=datetime.now()\n",
    "    time_expgrad_logistic = (b-a).seconds\n",
    "    \n",
    "    a=datetime.now()  \n",
    "    expgrad_X_ensemble.fit(\n",
    "    X_train,\n",
    "    y_train,\n",
    "    sensitive_features=A_train)\n",
    "    b=datetime.now()\n",
    "    time_expgrad_ensemble = (b-a).seconds\n",
    "    \n",
    "    expgrad_y_logistic = pd.Series(expgrad_X_logistic.predict(X_train),name=\"logistic_learner_y\")\n",
    "    error_expgrad_logistic = get_error(y_train,expgrad_y_logistic)\n",
    "    expgrad_error_logistic.append(error_expgrad_logistic)\n",
    "    acc_expgrad_logistic = get_balanced_accuracy_score(y_train,expgrad_y_logistic)\n",
    "    expgrad_accuracy_logistic.append(acc_expgrad_logistic)\n",
    "    \n",
    "    expgrad_y_ensemble = pd.Series(expgrad_X_ensemble.predict(X_train),name=\"ensemble_learner_y\")\n",
    "    error_expgrad_ensemble = get_error(y_train,expgrad_y_ensemble)\n",
    "    expgrad_error_ensemble.append(error_expgrad_ensemble)\n",
    "    acc_expgrad_ensemble = get_balanced_accuracy_score(y_train,expgrad_y_ensemble)\n",
    "    expgrad_accuracy_ensemble.append(acc_expgrad_ensemble)\n",
    "    \n",
    "    violation_expgrad_logistic = get_violation(expgrad_y_logistic,A_train,\"logistic_learner_y\")\n",
    "    expgrad_violation_logistic.append(violation_expgrad_logistic)\n",
    "    \n",
    "    violation_expgrad_ensemble = get_violation(expgrad_y_ensemble,A_train,\"ensemble_learner_y\")\n",
    "    expgrad_violation_ensemble.append(violation_expgrad_ensemble)"
   ]
  },
  {
   "cell_type": "code",
   "execution_count": 13,
   "metadata": {},
   "outputs": [
    {
     "name": "stdout",
     "output_type": "stream",
     "text": [
      "Logistic learner & violation:\n",
      "[0.17455078841217453] [0.009143430222613547]\n",
      "Gradient boosting learner & violation:\n",
      "[0.14338100476714333] [0.010786151799383192]\n"
     ]
    }
   ],
   "source": [
    "print(\"Logistic learner & violation:\")\n",
    "print(expgrad_error_logistic,expgrad_violation_logistic)\n",
    "print(\"Gradient boosting learner & violation:\")\n",
    "print(expgrad_error_ensemble,expgrad_violation_ensemble)"
   ]
  },
  {
   "cell_type": "code",
   "execution_count": 15,
   "metadata": {},
   "outputs": [
    {
     "data": {
      "image/png": "[encoded data removed]",
      "text/plain": [
       "<Figure size 432x288 with 1 Axes>"
      ]
     },
     "metadata": {
      "needs_background": "light"
     },
     "output_type": "display_data"
    },
    {
     "data": {
      "image/png": "[encoded data removed]",
      "text/plain": [
       "<Figure size 432x288 with 1 Axes>"
      ]
     },
     "metadata": {
      "needs_background": "light"
     },
     "output_type": "display_data"
    }
   ],
   "source": [
    "import matplotlib.pyplot as plt\n",
    "\n",
    "plt.scatter(expgrad_violation_logistic,expgrad_error_logistic,label=\"expgrad\")\n",
    "plt.plot(violation_logistic,error_logistic,'ro',label=\"unmitigated\")\n",
    "plt.xlabel('Violation of the fairness constraint')\n",
    "plt.ylabel('Error')\n",
    "plt.title('Adult Uci/DP difference/Error/log.reg')\n",
    "plt.legend()\n",
    "plt.show()\n",
    "\n",
    "plt.scatter(expgrad_violation_logistic,expgrad_accuracy_logistic,label=\"expgrad\")\n",
    "plt.plot(violation_logistic,accuracy_logistic,'ro',label=\"unmitigated\")\n",
    "plt.xlabel('Violation of the fairness constraint')\n",
    "plt.ylabel('Balanced Accuracy')\n",
    "plt.title('Adult Uci/DP difference/Balanced accuracy/log.reg')\n",
    "plt.legend()\n",
    "plt.show()"
   ]
  },
  {
   "cell_type": "code",
   "execution_count": 17,
   "metadata": {},
   "outputs": [
    {
     "data": {
      "image/png": "[encoded data removed]",
      "text/plain": [
       "<Figure size 432x288 with 1 Axes>"
      ]
     },
     "metadata": {
      "needs_background": "light"
     },
     "output_type": "display_data"
    },
    {
     "data": {
      "image/png": "[encoded data removed]",
      "text/plain": [
       "<Figure size 432x288 with 1 Axes>"
      ]
     },
     "metadata": {
      "needs_background": "light"
     },
     "output_type": "display_data"
    }
   ],
   "source": [
    "plt.scatter(expgrad_violation_ensemble,expgrad_error_ensemble,label=\"expgrad\")\n",
    "plt.plot(violation_ensemble,error_ensemble,'ro',label=\"unmitigated\")\n",
    "plt.xlabel('Violation of the fairness constraint')\n",
    "plt.ylabel('Error')\n",
    "plt.title('Adult Uci/DP difference/Error/gradient.boosting')\n",
    "plt.legend()\n",
    "plt.show()\n",
    "\n",
    "plt.scatter(expgrad_violation_ensemble,expgrad_accuracy_ensemble,label=\"expgrad\")\n",
    "plt.plot(violation_ensemble,accuracy_ensemble,'ro',label=\"unmitigated\")\n",
    "plt.xlabel('Violation of the fairness constraint')\n",
    "plt.ylabel('Balanced accuracy')\n",
    "plt.title('Adult Uci/DP difference/Balanced accuracy/gradient.boosting')\n",
    "plt.legend()\n",
    "plt.show()"
   ]
  },
  {
   "cell_type": "markdown",
   "metadata": {},
   "source": [
    "# Grid Search for Logistic Learner"
   ]
  },
  {
   "cell_type": "code",
   "execution_count": 18,
   "metadata": {},
   "outputs": [
    {
     "name": "stdout",
     "output_type": "stream",
     "text": [
      "sign  event  group_id\n",
      "+     all    0.0         0.000000\n",
      "             1.0         0.000000\n",
      "-     all    0.0         0.251016\n",
      "             1.0         0.000000\n",
      "Name: 7, dtype: float64\n"
     ]
    }
   ],
   "source": [
    "lambda_vecs_logistic = (expgrad_X_logistic._lambda_vecs_LP)\n",
    "# print(lambda_vecs_logistic)\n",
    "keys = lambda_vecs_logistic.keys()\n",
    "\n",
    "lambda_vec_logistic = lambda_vecs_logistic[keys[-1]]\n",
    "print(lambda_vec_logistic)"
   ]
  },
  {
   "cell_type": "code",
   "execution_count": 19,
   "metadata": {},
   "outputs": [
    {
     "name": "stdout",
     "output_type": "stream",
     "text": [
      "-0.25101647763750673\n"
     ]
    }
   ],
   "source": [
    "lambda_0_logistic = lambda_vec_logistic['+','all',0] - lambda_vec_logistic['-','all',0]\n",
    "print(lambda_0_logistic)"
   ]
  },
  {
   "cell_type": "code",
   "execution_count": 20,
   "metadata": {},
   "outputs": [
    {
     "name": "stdout",
     "output_type": "stream",
     "text": [
      "                           0         1        2         3         4        5   \\\n",
      "sign event group_id                                                             \n",
      "+    all   0         0.000000  0.000000  0.00000  0.000000  0.000000  0.00000   \n",
      "           1         0.000000  0.000000  0.00000  0.000000  0.000000  0.00000   \n",
      "-    all   0         0.451016  0.437683  0.42435  0.411016  0.397683  0.38435   \n",
      "           1         0.000000  0.000000  0.00000  0.000000  0.000000  0.00000   \n",
      "\n",
      "                           6         7        8         9   ...        21  \\\n",
      "sign event group_id                                         ...             \n",
      "+    all   0         0.000000  0.000000  0.00000  0.000000  ...  0.000000   \n",
      "           1         0.000000  0.000000  0.00000  0.000000  ...  0.000000   \n",
      "-    all   0         0.371016  0.357683  0.34435  0.331016  ...  0.171016   \n",
      "           1         0.000000  0.000000  0.00000  0.000000  ...  0.000000   \n",
      "\n",
      "                           22       23        24        25       26        27  \\\n",
      "sign event group_id                                                             \n",
      "+    all   0         0.000000  0.00000  0.000000  0.000000  0.00000  0.000000   \n",
      "           1         0.000000  0.00000  0.000000  0.000000  0.00000  0.000000   \n",
      "-    all   0         0.157683  0.14435  0.131016  0.117683  0.10435  0.091016   \n",
      "           1         0.000000  0.00000  0.000000  0.000000  0.00000  0.000000   \n",
      "\n",
      "                           28       29        30  \n",
      "sign event group_id                               \n",
      "+    all   0         0.000000  0.00000  0.000000  \n",
      "           1         0.000000  0.00000  0.000000  \n",
      "-    all   0         0.077683  0.06435  0.051016  \n",
      "           1         0.000000  0.00000  0.000000  \n",
      "\n",
      "[4 rows x 31 columns]\n"
     ]
    }
   ],
   "source": [
    "scope = 0.2\n",
    "\n",
    "lambda_multipliers_logistic = np.linspace(lambda_0_logistic-scope, lambda_0_logistic+scope, 31)\n",
    "\n",
    "\n",
    "iterables = [['+', '-'], ['all'], [0,1]]\n",
    "midx = pd.MultiIndex.from_product(iterables, names=['sign', 'event', 'group_id'])\n",
    "\n",
    "new_lambdas = []\n",
    "for l in lambda_multipliers_logistic:\n",
    "    nxt = pd.Series(np.zeros(4), index=midx)\n",
    "    \n",
    "    if l < 0:\n",
    "        nxt[(\"-\", \"all\", 0)] = abs(l)\n",
    "    else:\n",
    "        nxt[(\"+\", \"all\", 0)] = l\n",
    "\n",
    "    new_lambdas.append(nxt)\n",
    "multiplier_df_logistic = pd.concat(new_lambdas,axis=1)\n",
    "print(multiplier_df_logistic)"
   ]
  },
  {
   "cell_type": "code",
   "execution_count": 21,
   "metadata": {},
   "outputs": [],
   "source": [
    "grid_search_logistic=GridSearch(LogisticRegression(solver='liblinear', fit_intercept=True),\n",
    "                        constraints=DemographicParity(),\n",
    "                        grid=multiplier_df_logistic)\n",
    "a=datetime.now()  \n",
    "grid_search_logistic.fit(X_train_all, y_train_all, sensitive_features=A_train_all)\n",
    "b=datetime.now()\n",
    "time_grid_search_logistic = (b-a).seconds"
   ]
  },
  {
   "cell_type": "code",
   "execution_count": 24,
   "metadata": {},
   "outputs": [],
   "source": [
    "predictors = grid_search_logistic._predictors\n",
    "grid_search_logistic_error = []\n",
    "grid_search_logistic_violation = []\n",
    "grid_search_logistic_accuracy = []\n",
    "\n",
    "for predictor in predictors:\n",
    "    grid_search_logistic_y = pd.Series(predictor.predict(X_train_all),name=\"grid_search_logistic_y\")\n",
    "    grid_search_logistic_error.append(get_error(y_train_all,grid_search_logistic_y))\n",
    "    grid_search_logistic_violation.append(get_violation(grid_search_logistic_y,A_train_all,\"grid_search_logistic_y\"))\n",
    "    grid_search_logistic_accuracy.append(get_balanced_accuracy_score(y_train_all,grid_search_logistic_y))"
   ]
  },
  {
   "cell_type": "code",
   "execution_count": 30,
   "metadata": {},
   "outputs": [
    {
     "data": {
      "image/png": "[encoded data removed]",
      "text/plain": [
       "<Figure size 432x288 with 1 Axes>"
      ]
     },
     "metadata": {
      "needs_background": "light"
     },
     "output_type": "display_data"
    },
    {
     "data": {
      "image/png": "[encoded data removed]",
      "text/plain": [
       "<Figure size 432x288 with 1 Axes>"
      ]
     },
     "metadata": {
      "needs_background": "light"
     },
     "output_type": "display_data"
    }
   ],
   "source": [
    "plt.scatter(expgrad_violation_logistic,expgrad_error_logistic,label=\"expgrad\")\n",
    "plt.plot(violation_logistic,error_logistic,'ro',label=\"unmitigated\")\n",
    "plt.plot(grid_search_logistic_violation,grid_search_logistic_error,'yo',label=\"grid search\")\n",
    "plt.xlabel('Violation of the fairness constraint')\n",
    "plt.ylabel('Error')\n",
    "plt.title('Adult Uci/DP difference/Error/log.reg')\n",
    "plt.legend()\n",
    "plt.show()\n",
    "\n",
    "plt.scatter(expgrad_violation_logistic,expgrad_accuracy_logistic,label=\"expgrad\")\n",
    "plt.plot(violation_logistic,accuracy_logistic,'ro',label=\"unmitigated\")\n",
    "plt.plot(grid_search_logistic_violation,grid_search_logistic_accuracy,'yo',label=\"grid search\")\n",
    "plt.xlabel('Violation of the fairness constraint')\n",
    "plt.ylabel('Balanced accuracy')\n",
    "plt.title('Adult Uci/DP difference/Balanced accuracy/log.reg')\n",
    "plt.legend()\n",
    "plt.show()"
   ]
  },
  {
   "cell_type": "markdown",
   "metadata": {},
   "source": [
    "# Grid Search for Gradient Boosting"
   ]
  },
  {
   "cell_type": "code",
   "execution_count": 31,
   "metadata": {},
   "outputs": [
    {
     "name": "stdout",
     "output_type": "stream",
     "text": [
      "sign  event  group_id\n",
      "+     all    0.0         0.000000\n",
      "             1.0         0.000000\n",
      "-     all    0.0         0.283396\n",
      "             1.0         0.000000\n",
      "Name: 6, dtype: float64\n"
     ]
    }
   ],
   "source": [
    "lambda_vecs_ensemble = (expgrad_X_ensemble._lambda_vecs_LP)\n",
    "# print(lambda_vecs)\n",
    "keys = lambda_vecs_ensemble.keys()\n",
    "\n",
    "lambda_vec_ensemble = lambda_vecs_ensemble[keys[-1]]\n",
    "print(lambda_vec_ensemble)"
   ]
  },
  {
   "cell_type": "code",
   "execution_count": 32,
   "metadata": {},
   "outputs": [
    {
     "name": "stdout",
     "output_type": "stream",
     "text": [
      "-0.28339626233460896\n"
     ]
    }
   ],
   "source": [
    "lambda_0_ensemble = lambda_vec_ensemble['+','all',0] - lambda_vec_ensemble['-','all',0]\n",
    "print(lambda_0_ensemble)"
   ]
  },
  {
   "cell_type": "code",
   "execution_count": 33,
   "metadata": {},
   "outputs": [],
   "source": [
    "scope = 0.2\n",
    "\n",
    "lambda_multipliers_ensemble = np.linspace(lambda_0_ensemble-scope, lambda_0_ensemble+scope, 31)\n",
    "\n",
    "\n",
    "iterables = [['+', '-'], ['all'], [0,1]]\n",
    "midx = pd.MultiIndex.from_product(iterables, names=['sign', 'event', 'group_id'])\n",
    "\n",
    "new_lambdas = []\n",
    "for l in lambda_multipliers_ensemble:\n",
    "    nxt = pd.Series(np.zeros(4), index=midx)\n",
    "    \n",
    "    if l < 0:\n",
    "        nxt[(\"-\", \"all\", 0)] = abs(l)\n",
    "    else:\n",
    "        nxt[(\"+\", \"all\", 0)] = l\n",
    "\n",
    "    new_lambdas.append(nxt)\n",
    "multiplier_df_ensemble = pd.concat(new_lambdas,axis=1)\n"
   ]
  },
  {
   "cell_type": "code",
   "execution_count": 34,
   "metadata": {},
   "outputs": [],
   "source": [
    "grid_search_ensemble=GridSearch(GradientBoostingClassifier(),\n",
    "                        constraints=DemographicParity(),\n",
    "                        grid=multiplier_df_ensemble)\n",
    "a=datetime.now()\n",
    "grid_search_ensemble.fit(X_train_all, y_train_all, sensitive_features=A_train_all)\n",
    "b=datetime.now()\n",
    "time_grid_search_ensemble = (b-a).seconds"
   ]
  },
  {
   "cell_type": "code",
   "execution_count": 35,
   "metadata": {},
   "outputs": [],
   "source": [
    "predictors = grid_search_ensemble._predictors\n",
    "grid_search_ensemble_error = []\n",
    "grid_search_ensemble_violation = []\n",
    "grid_search_ensemble_accuracy = []\n",
    "\n",
    "for predictor in predictors:\n",
    "    grid_search_ensemble_y = pd.Series(predictor.predict(X_train_all),name=\"grid_search_ensemble_y\")\n",
    "    grid_search_ensemble_error.append(get_error(y_train_all,grid_search_ensemble_y))\n",
    "    grid_search_ensemble_violation.append(get_violation(grid_search_ensemble_y,A_train_all,\"grid_search_ensemble_y\"))\n",
    "    grid_search_ensemble_accuracy.append(get_balanced_accuracy_score(y_train_all,grid_search_ensemble_y))"
   ]
  },
  {
   "cell_type": "code",
   "execution_count": 36,
   "metadata": {},
   "outputs": [
    {
     "data": {
      "image/png": "[encoded data removed]",
      "text/plain": [
       "<Figure size 432x288 with 1 Axes>"
      ]
     },
     "metadata": {
      "needs_background": "light"
     },
     "output_type": "display_data"
    },
    {
     "data": {
      "image/png": "[encoded data removed]",
      "text/plain": [
       "<Figure size 432x288 with 1 Axes>"
      ]
     },
     "metadata": {
      "needs_background": "light"
     },
     "output_type": "display_data"
    }
   ],
   "source": [
    "plt.scatter(expgrad_violation_ensemble,expgrad_error_ensemble,label=\"expgrad\")\n",
    "plt.plot(violation_ensemble,error_ensemble,'ro',label=\"unmitigated\")\n",
    "plt.plot(grid_search_ensemble_violation,grid_search_ensemble_error,'yo',label=\"grid search\")\n",
    "plt.xlabel('Violation of the fairness constraint')\n",
    "plt.ylabel('Error')\n",
    "plt.title('Adult Uci/DP difference/Error/gradient.boosting')\n",
    "plt.legend()\n",
    "plt.show()\n",
    "\n",
    "plt.scatter(expgrad_violation_ensemble,expgrad_accuracy_ensemble,label=\"expgrad\")\n",
    "plt.plot(violation_ensemble,accuracy_ensemble,'ro',label=\"unmitigated\")\n",
    "plt.plot(grid_search_ensemble_violation,grid_search_ensemble_accuracy,'yo',label=\"grid search\")\n",
    "plt.xlabel('Violation of the fairness constraint')\n",
    "plt.ylabel('Balanced accuracy')\n",
    "plt.title('Adult Uci/DP difference/Balanced accuracy/gradient.boosting')\n",
    "plt.legend()\n",
    "plt.show()"
   ]
  },
  {
   "cell_type": "markdown",
   "metadata": {},
   "source": [
    "# Running time"
   ]
  },
  {
   "cell_type": "code",
   "execution_count": 24,
   "metadata": {},
   "outputs": [
    {
     "name": "stdout",
     "output_type": "stream",
     "text": [
      "Time for Expgrad:\n",
      "Logistic learner:  19\n",
      "Grad boosting learner:  24\n"
     ]
    }
   ],
   "source": [
    "print(\"Time for Expgrad:\")\n",
    "print(\"Logistic learner: \",time_expgrad_logistic)\n",
    "print(\"Grad boosting learner: \",time_expgrad_ensemble)"
   ]
  },
  {
   "cell_type": "code",
   "execution_count": 25,
   "metadata": {},
   "outputs": [
    {
     "name": "stdout",
     "output_type": "stream",
     "text": [
      "Time for Grid Search:\n",
      "Logistic learner:  32\n",
      "Grad boosting learner:  62\n"
     ]
    }
   ],
   "source": [
    "print(\"Time for Grid Search:\")\n",
    "print(\"Logistic learner: \",time_grid_search_logistic)\n",
    "print(\"Grad boosting learner: \",time_grid_search_ensemble)"
   ]
  },
  {
   "cell_type": "code",
   "execution_count": null,
   "metadata": {},
   "outputs": [],
   "source": []
  }
 ],
 "metadata": {
  "kernelspec": {
   "display_name": "Python 3",
   "language": "python",
   "name": "python3"
  },
  "language_info": {
   "codemirror_mode": {
    "name": "ipython",
    "version": 3
   },
   "file_extension": ".py",
   "mimetype": "text/x-python",
   "name": "python",
   "nbconvert_exporter": "python",
   "pygments_lexer": "ipython3",
   "version": "3.6.10"
  }
 },
 "nbformat": 4,
 "nbformat_minor": 4
}
