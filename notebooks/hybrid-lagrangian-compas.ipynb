{
 "cells": [
  {
   "cell_type": "markdown",
   "metadata": {
    "colab_type": "text",
    "id": "1NAwu5nrpo0A"
   },
   "source": [
    "# Experiment with complete Lagrangian from exponentiated gradient as grid for grid search\n",
    "\n",
    "In this, we compare time, violation and error from expgrad on full dataset, gridsearch on full dataset, hybrid model with various fractions of subsets.\n",
    "\n",
    "### Notes:\n",
    "\n",
    "1. For hybrid model, we report 2 values - expgrad on partial dataset and grid search by re-training all classifiers with output lagrangian of expgrad.\n",
    "\n",
    "2. As predict may give variable results (due to randomisation), `_pmf_predict` is used to get the value of the `y_pred` for exp grad (in both cases - on partial and also on full dataset).\n",
    "\n",
    "3. Dataset - compas dataset.\n"
   ]
  },
  {
   "cell_type": "code",
   "execution_count": 68,
   "metadata": {
    "colab": {
     "base_uri": "https://localhost:8080/",
     "height": 761
    },
    "colab_type": "code",
    "executionInfo": {
     "elapsed": 4183,
     "status": "ok",
     "timestamp": 1591035149076,
     "user": {
      "displayName": "Parul Gupta",
      "photoUrl": "https://lh3.googleusercontent.com/a-/AOh14Gjzx9Gg7u--OtTsSQHEyX2mNCuOkuT12Eq4CYXf=s64",
      "userId": "14512472131783578125"
     },
     "user_tz": 240
    },
    "id": "yzEcHTHFpqQy",
    "outputId": "c9316ea2-c2de-4ae3-8610-d5dd6a6c06d6"
   },
   "outputs": [
    {
     "name": "stdout",
     "output_type": "stream",
     "text": [
      "Requirement already satisfied: fairlearn in /usr/local/lib/python3.6/dist-packages (0.4.6)\n",
      "Requirement already satisfied: scipy>=1.3.1 in /usr/local/lib/python3.6/dist-packages (from fairlearn) (1.4.1)\n",
      "Requirement already satisfied: scikit-learn>=0.22.1 in /usr/local/lib/python3.6/dist-packages (from fairlearn) (0.22.2.post1)\n",
      "Requirement already satisfied: pandas>=0.25.1 in /usr/local/lib/python3.6/dist-packages (from fairlearn) (1.0.3)\n",
      "Requirement already satisfied: numpy>=1.17.2 in /usr/local/lib/python3.6/dist-packages (from fairlearn) (1.18.4)\n",
      "Requirement already satisfied: ipywidgets>=7.5.0 in /usr/local/lib/python3.6/dist-packages (from fairlearn) (7.5.1)\n",
      "Requirement already satisfied: joblib>=0.11 in /usr/local/lib/python3.6/dist-packages (from scikit-learn>=0.22.1->fairlearn) (0.15.1)\n",
      "Requirement already satisfied: python-dateutil>=2.6.1 in /usr/local/lib/python3.6/dist-packages (from pandas>=0.25.1->fairlearn) (2.8.1)\n",
      "Requirement already satisfied: pytz>=2017.2 in /usr/local/lib/python3.6/dist-packages (from pandas>=0.25.1->fairlearn) (2018.9)\n",
      "Requirement already satisfied: ipykernel>=4.5.1 in /usr/local/lib/python3.6/dist-packages (from ipywidgets>=7.5.0->fairlearn) (4.10.1)\n",
      "Requirement already satisfied: traitlets>=4.3.1 in /usr/local/lib/python3.6/dist-packages (from ipywidgets>=7.5.0->fairlearn) (4.3.3)\n",
      "Requirement already satisfied: ipython>=4.0.0; python_version >= \"3.3\" in /usr/local/lib/python3.6/dist-packages (from ipywidgets>=7.5.0->fairlearn) (5.5.0)\n",
      "Requirement already satisfied: widgetsnbextension~=3.5.0 in /usr/local/lib/python3.6/dist-packages (from ipywidgets>=7.5.0->fairlearn) (3.5.1)\n",
      "Requirement already satisfied: nbformat>=4.2.0 in /usr/local/lib/python3.6/dist-packages (from ipywidgets>=7.5.0->fairlearn) (5.0.6)\n",
      "Requirement already satisfied: six>=1.5 in /usr/local/lib/python3.6/dist-packages (from python-dateutil>=2.6.1->pandas>=0.25.1->fairlearn) (1.12.0)\n",
      "Requirement already satisfied: jupyter-client in /usr/local/lib/python3.6/dist-packages (from ipykernel>=4.5.1->ipywidgets>=7.5.0->fairlearn) (5.3.4)\n",
      "Requirement already satisfied: tornado>=4.0 in /usr/local/lib/python3.6/dist-packages (from ipykernel>=4.5.1->ipywidgets>=7.5.0->fairlearn) (4.5.3)\n",
      "Requirement already satisfied: decorator in /usr/local/lib/python3.6/dist-packages (from traitlets>=4.3.1->ipywidgets>=7.5.0->fairlearn) (4.4.2)\n",
      "Requirement already satisfied: ipython-genutils in /usr/local/lib/python3.6/dist-packages (from traitlets>=4.3.1->ipywidgets>=7.5.0->fairlearn) (0.2.0)\n",
      "Requirement already satisfied: pexpect; sys_platform != \"win32\" in /usr/local/lib/python3.6/dist-packages (from ipython>=4.0.0; python_version >= \"3.3\"->ipywidgets>=7.5.0->fairlearn) (4.8.0)\n",
      "Requirement already satisfied: pygments in /usr/local/lib/python3.6/dist-packages (from ipython>=4.0.0; python_version >= \"3.3\"->ipywidgets>=7.5.0->fairlearn) (2.1.3)\n",
      "Requirement already satisfied: pickleshare in /usr/local/lib/python3.6/dist-packages (from ipython>=4.0.0; python_version >= \"3.3\"->ipywidgets>=7.5.0->fairlearn) (0.7.5)\n",
      "Requirement already satisfied: setuptools>=18.5 in /usr/local/lib/python3.6/dist-packages (from ipython>=4.0.0; python_version >= \"3.3\"->ipywidgets>=7.5.0->fairlearn) (47.1.1)\n",
      "Requirement already satisfied: simplegeneric>0.8 in /usr/local/lib/python3.6/dist-packages (from ipython>=4.0.0; python_version >= \"3.3\"->ipywidgets>=7.5.0->fairlearn) (0.8.1)\n",
      "Requirement already satisfied: prompt-toolkit<2.0.0,>=1.0.4 in /usr/local/lib/python3.6/dist-packages (from ipython>=4.0.0; python_version >= \"3.3\"->ipywidgets>=7.5.0->fairlearn) (1.0.18)\n",
      "Requirement already satisfied: notebook>=4.4.1 in /usr/local/lib/python3.6/dist-packages (from widgetsnbextension~=3.5.0->ipywidgets>=7.5.0->fairlearn) (5.2.2)\n",
      "Requirement already satisfied: jsonschema!=2.5.0,>=2.4 in /usr/local/lib/python3.6/dist-packages (from nbformat>=4.2.0->ipywidgets>=7.5.0->fairlearn) (2.6.0)\n",
      "Requirement already satisfied: jupyter-core in /usr/local/lib/python3.6/dist-packages (from nbformat>=4.2.0->ipywidgets>=7.5.0->fairlearn) (4.6.3)\n",
      "Requirement already satisfied: pyzmq>=13 in /usr/local/lib/python3.6/dist-packages (from jupyter-client->ipykernel>=4.5.1->ipywidgets>=7.5.0->fairlearn) (19.0.1)\n",
      "Requirement already satisfied: ptyprocess>=0.5 in /usr/local/lib/python3.6/dist-packages (from pexpect; sys_platform != \"win32\"->ipython>=4.0.0; python_version >= \"3.3\"->ipywidgets>=7.5.0->fairlearn) (0.6.0)\n",
      "Requirement already satisfied: wcwidth in /usr/local/lib/python3.6/dist-packages (from prompt-toolkit<2.0.0,>=1.0.4->ipython>=4.0.0; python_version >= \"3.3\"->ipywidgets>=7.5.0->fairlearn) (0.1.9)\n",
      "Requirement already satisfied: terminado>=0.3.3; sys_platform != \"win32\" in /usr/local/lib/python3.6/dist-packages (from notebook>=4.4.1->widgetsnbextension~=3.5.0->ipywidgets>=7.5.0->fairlearn) (0.8.3)\n",
      "Requirement already satisfied: nbconvert in /usr/local/lib/python3.6/dist-packages (from notebook>=4.4.1->widgetsnbextension~=3.5.0->ipywidgets>=7.5.0->fairlearn) (5.6.1)\n",
      "Requirement already satisfied: jinja2 in /usr/local/lib/python3.6/dist-packages (from notebook>=4.4.1->widgetsnbextension~=3.5.0->ipywidgets>=7.5.0->fairlearn) (2.11.2)\n",
      "Requirement already satisfied: bleach in /usr/local/lib/python3.6/dist-packages (from nbconvert->notebook>=4.4.1->widgetsnbextension~=3.5.0->ipywidgets>=7.5.0->fairlearn) (3.1.5)\n",
      "Requirement already satisfied: testpath in /usr/local/lib/python3.6/dist-packages (from nbconvert->notebook>=4.4.1->widgetsnbextension~=3.5.0->ipywidgets>=7.5.0->fairlearn) (0.4.4)\n",
      "Requirement already satisfied: pandocfilters>=1.4.1 in /usr/local/lib/python3.6/dist-packages (from nbconvert->notebook>=4.4.1->widgetsnbextension~=3.5.0->ipywidgets>=7.5.0->fairlearn) (1.4.2)\n",
      "Requirement already satisfied: defusedxml in /usr/local/lib/python3.6/dist-packages (from nbconvert->notebook>=4.4.1->widgetsnbextension~=3.5.0->ipywidgets>=7.5.0->fairlearn) (0.6.0)\n",
      "Requirement already satisfied: entrypoints>=0.2.2 in /usr/local/lib/python3.6/dist-packages (from nbconvert->notebook>=4.4.1->widgetsnbextension~=3.5.0->ipywidgets>=7.5.0->fairlearn) (0.3)\n",
      "Requirement already satisfied: mistune<2,>=0.8.1 in /usr/local/lib/python3.6/dist-packages (from nbconvert->notebook>=4.4.1->widgetsnbextension~=3.5.0->ipywidgets>=7.5.0->fairlearn) (0.8.4)\n",
      "Requirement already satisfied: MarkupSafe>=0.23 in /usr/local/lib/python3.6/dist-packages (from jinja2->notebook>=4.4.1->widgetsnbextension~=3.5.0->ipywidgets>=7.5.0->fairlearn) (1.1.1)\n",
      "Requirement already satisfied: packaging in /usr/local/lib/python3.6/dist-packages (from bleach->nbconvert->notebook>=4.4.1->widgetsnbextension~=3.5.0->ipywidgets>=7.5.0->fairlearn) (20.4)\n",
      "Requirement already satisfied: webencodings in /usr/local/lib/python3.6/dist-packages (from bleach->nbconvert->notebook>=4.4.1->widgetsnbextension~=3.5.0->ipywidgets>=7.5.0->fairlearn) (0.5.1)\n",
      "Requirement already satisfied: pyparsing>=2.0.2 in /usr/local/lib/python3.6/dist-packages (from packaging->bleach->nbconvert->notebook>=4.4.1->widgetsnbextension~=3.5.0->ipywidgets>=7.5.0->fairlearn) (2.4.7)\n"
     ]
    }
   ],
   "source": [
    "!pip install fairlearn"
   ]
  },
  {
   "cell_type": "code",
   "execution_count": 69,
   "metadata": {
    "colab": {
     "base_uri": "https://localhost:8080/",
     "height": 428
    },
    "colab_type": "code",
    "executionInfo": {
     "elapsed": 7160,
     "status": "ok",
     "timestamp": 1591035152070,
     "user": {
      "displayName": "Parul Gupta",
      "photoUrl": "https://lh3.googleusercontent.com/a-/AOh14Gjzx9Gg7u--OtTsSQHEyX2mNCuOkuT12Eq4CYXf=s64",
      "userId": "14512472131783578125"
     },
     "user_tz": 240
    },
    "id": "6fGucelFqFH6",
    "outputId": "3620cd70-0581-4f1c-87ce-68797a56c5bc"
   },
   "outputs": [
    {
     "name": "stdout",
     "output_type": "stream",
     "text": [
      "Requirement already satisfied: tempeh in /usr/local/lib/python3.6/dist-packages (0.1.12)\n",
      "Requirement already satisfied: numpy in /usr/local/lib/python3.6/dist-packages (from tempeh) (1.18.4)\n",
      "Requirement already satisfied: pandas in /usr/local/lib/python3.6/dist-packages (from tempeh) (1.0.3)\n",
      "Requirement already satisfied: requests in /usr/local/lib/python3.6/dist-packages (from tempeh) (2.23.0)\n",
      "Requirement already satisfied: scipy in /usr/local/lib/python3.6/dist-packages (from tempeh) (1.4.1)\n",
      "Requirement already satisfied: shap in /usr/local/lib/python3.6/dist-packages (from tempeh) (0.35.0)\n",
      "Requirement already satisfied: memory-profiler in /usr/local/lib/python3.6/dist-packages (from tempeh) (0.57.0)\n",
      "Requirement already satisfied: scikit-learn in /usr/local/lib/python3.6/dist-packages (from tempeh) (0.22.2.post1)\n",
      "Requirement already satisfied: pytest in /usr/local/lib/python3.6/dist-packages (from tempeh) (3.6.4)\n",
      "Requirement already satisfied: python-dateutil>=2.6.1 in /usr/local/lib/python3.6/dist-packages (from pandas->tempeh) (2.8.1)\n",
      "Requirement already satisfied: pytz>=2017.2 in /usr/local/lib/python3.6/dist-packages (from pandas->tempeh) (2018.9)\n",
      "Requirement already satisfied: chardet<4,>=3.0.2 in /usr/local/lib/python3.6/dist-packages (from requests->tempeh) (3.0.4)\n",
      "Requirement already satisfied: idna<3,>=2.5 in /usr/local/lib/python3.6/dist-packages (from requests->tempeh) (2.9)\n",
      "Requirement already satisfied: certifi>=2017.4.17 in /usr/local/lib/python3.6/dist-packages (from requests->tempeh) (2020.4.5.1)\n",
      "Requirement already satisfied: urllib3!=1.25.0,!=1.25.1,<1.26,>=1.21.1 in /usr/local/lib/python3.6/dist-packages (from requests->tempeh) (1.24.3)\n",
      "Requirement already satisfied: tqdm>4.25.0 in /usr/local/lib/python3.6/dist-packages (from shap->tempeh) (4.41.1)\n",
      "Requirement already satisfied: psutil in /usr/local/lib/python3.6/dist-packages (from memory-profiler->tempeh) (5.4.8)\n",
      "Requirement already satisfied: joblib>=0.11 in /usr/local/lib/python3.6/dist-packages (from scikit-learn->tempeh) (0.15.1)\n",
      "Requirement already satisfied: attrs>=17.4.0 in /usr/local/lib/python3.6/dist-packages (from pytest->tempeh) (19.3.0)\n",
      "Requirement already satisfied: setuptools in /usr/local/lib/python3.6/dist-packages (from pytest->tempeh) (47.1.1)\n",
      "Requirement already satisfied: pluggy<0.8,>=0.5 in /usr/local/lib/python3.6/dist-packages (from pytest->tempeh) (0.7.1)\n",
      "Requirement already satisfied: atomicwrites>=1.0 in /usr/local/lib/python3.6/dist-packages (from pytest->tempeh) (1.4.0)\n",
      "Requirement already satisfied: six>=1.10.0 in /usr/local/lib/python3.6/dist-packages (from pytest->tempeh) (1.12.0)\n",
      "Requirement already satisfied: more-itertools>=4.0.0 in /usr/local/lib/python3.6/dist-packages (from pytest->tempeh) (8.3.0)\n",
      "Requirement already satisfied: py>=1.5.0 in /usr/local/lib/python3.6/dist-packages (from pytest->tempeh) (1.8.1)\n"
     ]
    }
   ],
   "source": [
    "!pip install tempeh"
   ]
  },
  {
   "cell_type": "code",
   "execution_count": 0,
   "metadata": {
    "colab": {},
    "colab_type": "code",
    "id": "igDct74vpo0D"
   },
   "outputs": [],
   "source": [
    "# load data\n",
    "import numpy as np\n",
    "import pandas as pd\n",
    "from datetime import datetime \n",
    "from IPython.display import display, HTML\n",
    "import statistics \n",
    "import scipy.stats as st\n",
    "from fairlearn.reductions import ExponentiatedGradient\n",
    "from sklearn.preprocessing import LabelEncoder, StandardScaler, MinMaxScaler\n",
    "from sklearn.model_selection import train_test_split\n",
    "from tempeh.configurations import datasets\n",
    "\n",
    "compas_dataset = datasets['compas']()\n",
    "X_train_all, X_test = compas_dataset.get_X(format=pd.DataFrame)\n",
    "y_train_all, y_test = compas_dataset.get_y(format=pd.Series)\n",
    "A_train_all, A_test = compas_dataset.get_sensitive_features('race', format=pd.Series)\n",
    "\n",
    "train_all = pd.concat([X_train_all, y_train_all, A_train_all], axis=1)"
   ]
  },
  {
   "cell_type": "code",
   "execution_count": 0,
   "metadata": {
    "colab": {},
    "colab_type": "code",
    "id": "TUCUzcUEpo0X"
   },
   "outputs": [],
   "source": [
    "# Subsampling process\n",
    "num_samples = 20\n",
    "#fractions = [0.1, 0.5]\n",
    "fractions = np.logspace(-2, 0, num=20)\n",
    "eps = 0.05"
   ]
  },
  {
   "cell_type": "code",
   "execution_count": 72,
   "metadata": {
    "colab": {
     "base_uri": "https://localhost:8080/",
     "height": 98
    },
    "colab_type": "code",
    "executionInfo": {
     "elapsed": 9289,
     "status": "ok",
     "timestamp": 1591035154231,
     "user": {
      "displayName": "Parul Gupta",
      "photoUrl": "https://lh3.googleusercontent.com/a-/AOh14Gjzx9Gg7u--OtTsSQHEyX2mNCuOkuT12Eq4CYXf=s64",
      "userId": "14512472131783578125"
     },
     "user_tz": 240
    },
    "id": "bDOrYnBHpo0t",
    "outputId": "a53d32d5-0311-4fbc-c9b8-71a21451a457"
   },
   "outputs": [
    {
     "data": {
      "text/plain": [
       "LogisticRegression(C=1.0, class_weight=None, dual=False, fit_intercept=True,\n",
       "                   intercept_scaling=1, l1_ratio=None, max_iter=100,\n",
       "                   multi_class='auto', n_jobs=None, penalty='l2',\n",
       "                   random_state=None, solver='liblinear', tol=0.0001, verbose=0,\n",
       "                   warm_start=False)"
      ]
     },
     "execution_count": 72,
     "metadata": {
      "tags": []
     },
     "output_type": "execute_result"
    }
   ],
   "source": [
    "#Unmitigated LogRes\n",
    "from sklearn.linear_model import LogisticRegression\n",
    "logistic_learner = LogisticRegression(solver='liblinear', fit_intercept=True)\n",
    "logistic_learner.fit(X_train_all, y_train_all)"
   ]
  },
  {
   "cell_type": "code",
   "execution_count": 0,
   "metadata": {
    "colab": {},
    "colab_type": "code",
    "id": "viYu_QpWpo0-"
   },
   "outputs": [],
   "source": [
    "from fairlearn.reductions import ExponentiatedGradient\n",
    "from fairlearn.reductions import GridSearch, DemographicParity, ErrorRate\n",
    "import numpy as np"
   ]
  },
  {
   "cell_type": "code",
   "execution_count": 74,
   "metadata": {
    "colab": {
     "base_uri": "https://localhost:8080/",
     "height": 32
    },
    "colab_type": "code",
    "executionInfo": {
     "elapsed": 9268,
     "status": "ok",
     "timestamp": 1591035154232,
     "user": {
      "displayName": "Parul Gupta",
      "photoUrl": "https://lh3.googleusercontent.com/a-/AOh14Gjzx9Gg7u--OtTsSQHEyX2mNCuOkuT12Eq4CYXf=s64",
      "userId": "14512472131783578125"
     },
     "user_tz": 240
    },
    "id": "flM3GLNypo1J",
    "outputId": "31b3be9b-8c2b-4804-ee7e-8f3398fa6828"
   },
   "outputs": [
    {
     "name": "stdout",
     "output_type": "stream",
     "text": [
      "Logistic Regression - Violation: 0.15129907254478464, Error: 0.33455882352941174\n"
     ]
    }
   ],
   "source": [
    "# Error & Violation of unmitigated estimator\n",
    "def UnmitLogistic(X): return logistic_learner.predict(X)\n",
    "# violation\n",
    "disparity_moment = DemographicParity()\n",
    "disparity_moment.load_data(X_train_all, y_train_all,\n",
    "                           sensitive_features=A_train_all)\n",
    "log_violation_unmitigated = disparity_moment.gamma(UnmitLogistic).max()\n",
    "\n",
    "# error\n",
    "error = ErrorRate()\n",
    "error.load_data(X_train_all, y_train_all, sensitive_features=A_train_all)\n",
    "log_error_unmitigated = error.gamma(UnmitLogistic)[0]\n",
    "print('Logistic Regression - Violation: {}, Error: {}'.format(\n",
    "    log_violation_unmitigated, log_error_unmitigated))"
   ]
  },
  {
   "cell_type": "code",
   "execution_count": 75,
   "metadata": {
    "colab": {
     "base_uri": "https://localhost:8080/",
     "height": 32
    },
    "colab_type": "code",
    "executionInfo": {
     "elapsed": 17167,
     "status": "ok",
     "timestamp": 1591035162147,
     "user": {
      "displayName": "Parul Gupta",
      "photoUrl": "https://lh3.googleusercontent.com/a-/AOh14Gjzx9Gg7u--OtTsSQHEyX2mNCuOkuT12Eq4CYXf=s64",
      "userId": "14512472131783578125"
     },
     "user_tz": 240
    },
    "id": "u375SXfvpo1V",
    "outputId": "70eb98bd-f779-413a-8f97-4cbf1c45289c"
   },
   "outputs": [
    {
     "name": "stdout",
     "output_type": "stream",
     "text": [
      "Exponentiated gradient on full dataset : Time: 7 seconds; Violation: 0.05000000000000043; Errror: 0.391800773607157\n"
     ]
    }
   ],
   "source": [
    "# Expgrad on full dataset\n",
    "expgrad_X_logistic = ExponentiatedGradient(\n",
    "    LogisticRegression(solver='liblinear', fit_intercept=True),\n",
    "    constraints=DemographicParity(), eps=eps, nu=1e-6)\n",
    "\n",
    "a=datetime.now()\n",
    "expgrad_X_logistic.fit(X_train_all, y_train_all,\n",
    "                       sensitive_features=A_train_all)\n",
    "b=datetime.now()\n",
    "time_expgrad_all = (b-a).seconds\n",
    "\n",
    "def Qexp_all(X): return expgrad_X_logistic._pmf_predict(X)[:, 1]\n",
    "# violation of log res\n",
    "disparity_moment = DemographicParity()\n",
    "disparity_moment.load_data(X_train_all, y_train_all,\n",
    "                           sensitive_features=A_train_all)\n",
    "violation_expgrad_all = disparity_moment.gamma(Qexp_all).max()\n",
    "\n",
    "# error of log res\n",
    "error = ErrorRate()\n",
    "error.load_data(X_train_all, y_train_all,\n",
    "                sensitive_features=A_train_all)\n",
    "error_expgrad_all = error.gamma(Qexp_all)[0]\n",
    "\n",
    "print('Exponentiated gradient on full dataset : Time: {} seconds; Violation: {}; Errror: {}'.format(\n",
    "    time_expgrad_all, violation_expgrad_all, error_expgrad_all))"
   ]
  },
  {
   "cell_type": "markdown",
   "metadata": {
    "colab_type": "text",
    "id": "uVB4znffpo1b"
   },
   "source": [
    "## Experiment Details\n",
    "\n",
    "### Notes:\n",
    "\n",
    "0. *Hybrid 0*: We fetch best lagrangian vector from all the subset samples (20 in this experiment) and run grid search on that. For grid search, we get `y_pred` using the best classifier out of all the predictors.\n",
    "\n",
    "1. *Hybrid 1*: We fetch all the lagrangian from the exponentiated gradient on the subset and run grid search on that. For grid search, we get `y_pred` using the best classifier out of all the predictors.\n",
    "\n",
    "2. *Hybrid 2*: We fetch all the lagrangian and respective weights from the exponentiated gradient on the subset and run grid search on that. For grid search, we get weighted average of `y_pred` of all the predictors.\n",
    "\n",
    "3. *Hybrid 3*: We fetch all the lagrangian from the exponentiated gradient on the subset and run grid search on that. We then re-weight the predictors using LP to get the final weights. We use this final weighted average of `y_pred` of all the predictors."
   ]
  },
  {
   "cell_type": "code",
   "execution_count": 0,
   "metadata": {
    "colab": {},
    "colab_type": "code",
    "id": "XBHv6Wr-SiuF"
   },
   "outputs": [],
   "source": [
    "def _pmf_predict(X, predictors, weights):\n",
    "    pred = pd.DataFrame()\n",
    "    for t in range(len(predictors)):\n",
    "        pred[t] = predictors[t].predict(X)\n",
    "    positive_probs = pred[weights.index].dot(weights).to_frame()\n",
    "    return np.concatenate((1-positive_probs, positive_probs), axis=1)"
   ]
  },
  {
   "cell_type": "code",
   "execution_count": 0,
   "metadata": {
    "colab": {},
    "colab_type": "code",
    "id": "CoQYeZHiZfmw"
   },
   "outputs": [],
   "source": [
    "# Copyright (c) Microsoft Corporation. All rights reserved.\n",
    "# Licensed under the MIT License.\n",
    "\n",
    "import logging\n",
    "import numpy as np\n",
    "import pandas as pd\n",
    "import pickle\n",
    "import scipy.optimize as opt\n",
    "from sklearn.dummy import DummyClassifier\n",
    "from time import time\n",
    "\n",
    "_PRECISION = 1e-8\n",
    "_LINE = \"_\" * 9\n",
    "_INDENTATION = \" \" * 9\n",
    "\n",
    "logger = logging.getLogger(__name__)\n",
    "\n",
    "\n",
    "class _Lagrangian:\n",
    "    \"\"\"Operations related to the Lagrangian.\n",
    "\n",
    "    :param X: the training features\n",
    "    :type X: Array\n",
    "    :param sensitive_features: the sensitive features to use for constraints\n",
    "    :type sensitive_features: Array\n",
    "    :param y: the training labels\n",
    "    :type y: Array\n",
    "    :param estimator: the estimator to fit in every iteration of best_h\n",
    "    :type estimator: an estimator that has a `fit` method with arguments X, y, and sample_weight\n",
    "    :param constraints: Object describing the parity constraints. This provides the reweighting\n",
    "        and relabelling\n",
    "    :type constraints: `fairlearn.reductions.Moment`\n",
    "    :param eps: allowed constraint violation\n",
    "    :type eps: float\n",
    "    :param B:\n",
    "    :type B:\n",
    "    :param opt_lambda: indicates whether to optimize lambda during the calculation of the\n",
    "        Lagrangian; optional with default value True\n",
    "    :type opt_lambda: bool\n",
    "    \"\"\"\n",
    "\n",
    "    def __init__(self, X, sensitive_features, y, estimator, constraints, eps, B, opt_lambda=True):\n",
    "        self.X = X\n",
    "        self.constraints = constraints\n",
    "        self.constraints.load_data(X, y, sensitive_features=sensitive_features)\n",
    "        self.obj = self.constraints.default_objective()\n",
    "        self.obj.load_data(X, y, sensitive_features=sensitive_features)\n",
    "        self.pickled_estimator = pickle.dumps(estimator)\n",
    "        self.eps = eps\n",
    "        self.B = B\n",
    "        self.opt_lambda = opt_lambda\n",
    "        self.hs = pd.Series(dtype=\"float64\")\n",
    "        self.classifiers = pd.Series(dtype=\"float64\")\n",
    "        self.errors = pd.Series(dtype=\"float64\")\n",
    "        self.gammas = pd.DataFrame()\n",
    "        self.lambdas = pd.DataFrame()\n",
    "        self.n = self.X.shape[0]\n",
    "        self.n_oracle_calls = 0\n",
    "        self.n_oracle_calls_dummy_returned = 0\n",
    "        self.oracle_execution_times = []\n",
    "        self.last_linprog_n_hs = 0\n",
    "        self.last_linprog_result = None\n",
    "\n",
    "    def _eval(self, Q, lambda_vec):\n",
    "        \"\"\"Return the value of the Lagrangian.\n",
    "\n",
    "        :param Q: `Q` is either a series of weights summing up to 1 that indicate the weight of\n",
    "            each `h` in contributing to the randomized classifier, or a callable corresponding to\n",
    "            a deterministic predict function.\n",
    "        :type Q: pandas.Series or callable\n",
    "        :param lambda_vec: lambda vector\n",
    "        :type lambda_vec: pandas.Series\n",
    "\n",
    "        :return: tuple `(L, L_high, gamma, error)` where `L` is the value of the Lagrangian,\n",
    "            `L_high` is the value of the Lagrangian under the best response of the lambda player,\n",
    "            `gamma` is the vector of constraint violations, and `error` is the empirical error\n",
    "        \"\"\"\n",
    "        if callable(Q):\n",
    "            error = self.obj.gamma(Q)[0]\n",
    "            gamma = self.constraints.gamma(Q)\n",
    "        else:\n",
    "            error = self.errors[Q.index].dot(Q)\n",
    "            gamma = self.gammas[Q.index].dot(Q)\n",
    "\n",
    "        if self.opt_lambda:\n",
    "            lambda_projected = self.constraints.project_lambda(lambda_vec)\n",
    "            L = error + np.sum(lambda_projected * gamma) - self.eps * np.sum(lambda_projected)\n",
    "        else:\n",
    "            L = error + np.sum(lambda_vec * gamma) - self.eps * np.sum(lambda_vec)\n",
    "\n",
    "        max_gamma = gamma.max()\n",
    "        if max_gamma < self.eps:\n",
    "            L_high = error\n",
    "        else:\n",
    "            L_high = error + self.B * (max_gamma - self.eps)\n",
    "        return L, L_high, gamma, error\n",
    "\n",
    "    def eval_gap(self, Q, lambda_hat, nu):\n",
    "        r\"\"\"Return the duality gap object for the given :math:`Q` and :math:`\\hat{\\lambda}`.\"\"\"\n",
    "        L, L_high, gamma, error = self._eval(Q, lambda_hat)\n",
    "        result = _GapResult(L, L, L_high, gamma, error)\n",
    "        for mul in [1.0, 2.0, 5.0, 10.0]:\n",
    "            h_hat, h_hat_idx = self.best_h(mul * lambda_hat)\n",
    "            logger.debug(\"%smul=%.0f\", _INDENTATION, mul)\n",
    "            L_low_mul, _, _, _ = self._eval(pd.Series({h_hat_idx: 1.0}), lambda_hat)\n",
    "            if L_low_mul < result.L_low:\n",
    "                result.L_low = L_low_mul\n",
    "            if result.gap() > nu + _PRECISION:\n",
    "                break\n",
    "        return result\n",
    "\n",
    "    def solve_linprog(self, errors=None, gammas=None, nu=1e-6):\n",
    "        if errors is None:\n",
    "          errors = self.errors\n",
    "        if gammas is None:\n",
    "          gammas = self.gammas\n",
    "        #print(errors, gammas)\n",
    "        n_hs = len(self.hs)\n",
    "        n_constraints = len(self.constraints.index)\n",
    "        if self.last_linprog_n_hs == n_hs:\n",
    "            return self.last_linprog_result\n",
    "        c = np.concatenate((errors, [self.B]))\n",
    "        A_ub = np.concatenate((gammas - self.eps, -np.ones((n_constraints, 1))), axis=1)\n",
    "        b_ub = np.zeros(n_constraints)\n",
    "        A_eq = np.concatenate((np.ones((1, n_hs)), np.zeros((1, 1))), axis=1)\n",
    "        b_eq = np.ones(1)\n",
    "        result = opt.linprog(c, A_ub=A_ub, b_ub=b_ub, A_eq=A_eq, b_eq=b_eq, method='simplex')\n",
    "        Q = pd.Series(result.x[:-1], self.hs.index)\n",
    "        dual_c = np.concatenate((b_ub, -b_eq))\n",
    "        dual_A_ub = np.concatenate((-A_ub.transpose(), A_eq.transpose()), axis=1)\n",
    "        dual_b_ub = c\n",
    "        dual_bounds = [(None, None) if i == n_constraints else (0, None) for i in range(n_constraints + 1)]  # noqa: E501\n",
    "        result_dual = opt.linprog(dual_c,\n",
    "                                  A_ub=dual_A_ub,\n",
    "                                  b_ub=dual_b_ub,\n",
    "                                  bounds=dual_bounds,\n",
    "                                  method='simplex')\n",
    "        lambda_vec = pd.Series(result_dual.x[:-1], self.constraints.index)\n",
    "        self.last_linprog_n_hs = n_hs\n",
    "        self.last_linprog_result = (Q, lambda_vec, self.eval_gap(Q, lambda_vec, nu))\n",
    "        return self.last_linprog_result\n",
    "\n",
    "    def _call_oracle(self, lambda_vec):\n",
    "        signed_weights = self.obj.signed_weights() + self.constraints.signed_weights(lambda_vec)\n",
    "        redY = 1 * (signed_weights > 0)\n",
    "        redW = signed_weights.abs()\n",
    "        redW = self.n * redW / redW.sum()\n",
    "\n",
    "        redY_unique = np.unique(redY)\n",
    "\n",
    "        classifier = None\n",
    "        if len(redY_unique) == 1:\n",
    "            logger.debug(\"redY had single value. Using DummyClassifier\")\n",
    "            classifier = DummyClassifier(strategy='constant',\n",
    "                                         constant=redY_unique[0])\n",
    "            self.n_oracle_calls_dummy_returned += 1\n",
    "        else:\n",
    "            classifier = pickle.loads(self.pickled_estimator)\n",
    "\n",
    "        oracle_call_start_time = time()\n",
    "        classifier.fit(self.X, redY, sample_weight=redW)\n",
    "        self.oracle_execution_times.append(time() - oracle_call_start_time)\n",
    "        self.n_oracle_calls += 1\n",
    "\n",
    "        return classifier\n",
    "\n",
    "    def best_h(self, lambda_vec):\n",
    "        \"\"\"Solve the best-response problem.\n",
    "\n",
    "        Returns the classifier that solves the best-response problem for\n",
    "        the vector of Lagrange multipliers `lambda_vec`.\n",
    "        \"\"\"\n",
    "        classifier = self._call_oracle(lambda_vec)\n",
    "        def h(X): return classifier.predict(X)\n",
    "        h_error = self.obj.gamma(h)[0]\n",
    "        h_gamma = self.constraints.gamma(h)\n",
    "        h_value = h_error + h_gamma.dot(lambda_vec)\n",
    "\n",
    "        if not self.hs.empty:\n",
    "            values = self.errors + self.gammas.transpose().dot(lambda_vec)\n",
    "            best_idx = values.idxmin()\n",
    "            best_value = values[best_idx]\n",
    "        else:\n",
    "            best_idx = -1\n",
    "            best_value = np.PINF\n",
    "\n",
    "        if h_value < best_value - _PRECISION:\n",
    "            logger.debug(\"%sbest_h: val improvement %f\", _LINE, best_value - h_value)\n",
    "            h_idx = len(self.hs)\n",
    "            self.hs.at[h_idx] = h\n",
    "            self.classifiers.at[h_idx] = classifier\n",
    "            self.errors.at[h_idx] = h_error\n",
    "            self.gammas[h_idx] = h_gamma\n",
    "            self.lambdas[h_idx] = lambda_vec.copy()\n",
    "            best_idx = h_idx\n",
    "\n",
    "        return self.hs[best_idx], best_idx\n",
    "\n",
    "\n",
    "class _GapResult:\n",
    "    \"\"\"The result of a duality gap computation.\"\"\"\n",
    "\n",
    "    def __init__(self, L, L_low, L_high, gamma, error):\n",
    "        self.L = L\n",
    "        self.L_low = L_low\n",
    "        self.L_high = L_high\n",
    "        self.gamma = gamma\n",
    "        self.error = error\n",
    "\n",
    "    def gap(self):\n",
    "        return max(self.L - self.L_low, self.L_high - self.L)\n"
   ]
  },
  {
   "cell_type": "code",
   "execution_count": 0,
   "metadata": {
    "colab": {},
    "colab_type": "code",
    "id": "z342IjjUpo1b"
   },
   "outputs": [],
   "source": [
    "# hybrid model\n",
    "\n",
    "# Variables\n",
    "time_expgrad_fracs = []\n",
    "time_hybrids = []\n",
    "time_expgrad_alls = []\n",
    "\n",
    "error_expgrad_fracs = []\n",
    "error_hybrids = []\n",
    "error_expgrad_alls = []\n",
    "\n",
    "vio_expgrad_fracs = []\n",
    "vio_hybrids = []\n",
    "vio_expgrad_alls = []\n",
    "\n",
    "\n",
    "error_expgrad_fracs_std = []\n",
    "error_hybrids_std = []\n",
    "\n",
    "vio_expgrad_fracs_std = []\n",
    "vio_hybrids_std = []\n",
    "\n",
    "# Hybrid 2\n",
    "error_grid_pmf_fracs = []\n",
    "vio_grid_pmf_fracs = []\n",
    "\n",
    "error_grid_pmf_fracs_std = []\n",
    "vio_grid_pmf_fracs_std = []\n",
    "\n",
    "# Hybrid 3\n",
    "vio_rewts_pmf = []\n",
    "error_rewts_pmf = []\n",
    "\n",
    "vio_rewts_pmf_std = []\n",
    "error_rewts_pmf_std = []\n",
    "\n",
    "\n",
    "# Hybrid 0\n",
    "error_best_lambdas = []\n",
    "vio_best_lambdas = []\n",
    "\n",
    "eval_gap_mean = []\n",
    "eval_gap_std = []\n",
    "eval_gap_max = []\n",
    "B = 1 / eps\n",
    "\n",
    "# Iterations on difference fractions\n",
    "for i,f in enumerate(fractions):\n",
    "    time_expgrad_alls.append(time_expgrad_all)\n",
    "    error_expgrad_alls.append(error_expgrad_all)\n",
    "    vio_expgrad_alls.append(violation_expgrad_all)\n",
    "    \n",
    "    _time_expgrad_fracs = []\n",
    "    _time_grid_fracs = []\n",
    "    _time_hybrids = []\n",
    "\n",
    "    _error_expgrad_fracs = []\n",
    "    _error_hybrids = []\n",
    "    _error_grid_pmf_fracs = []\n",
    "    _error_rewts = []\n",
    "\n",
    "    _vio_expgrad_fracs = []\n",
    "    _vio_hybrids = []\n",
    "    _vio_grid_pmf_fracs = []\n",
    "    _vio_rewts = []\n",
    "\n",
    "    _best_lambda = pd.DataFrame()\n",
    "\n",
    "    for n in range(num_samples):\n",
    "        # get samples\n",
    "        subsampling = train_all.sample(frac=f, random_state=n+20)\n",
    "        subsampling = subsampling.reset_index()\n",
    "        subsampling = subsampling.drop(columns=['index'])\n",
    "        tmp = subsampling.iloc[:, :-1]\n",
    "        A_train = subsampling.iloc[:, -1]\n",
    "        X_train = tmp.iloc[:, :-1]\n",
    "        y_train = tmp.iloc[:,-1]\n",
    "\n",
    "        # Expgrad on sub dataset\n",
    "        expgrad_X_logistic_frac = ExponentiatedGradient(\n",
    "            LogisticRegression(solver='liblinear', fit_intercept=True),\n",
    "            constraints=DemographicParity(), eps=eps, nu=1e-6)\n",
    "\n",
    "        a=datetime.now()  \n",
    "        expgrad_X_logistic_frac.fit(X_train, y_train, sensitive_features=A_train)\n",
    "        b=datetime.now()\n",
    "        time_expgrad_frac = (b-a).seconds\n",
    "        _time_expgrad_fracs.append(time_expgrad_frac)\n",
    "\n",
    "        def Qexp(X): return expgrad_X_logistic_frac._pmf_predict(X)[:, 1]\n",
    "        # violation of log res\n",
    "        disparity_moment = DemographicParity()\n",
    "        disparity_moment.load_data(X_train_all, y_train_all,\n",
    "                                   sensitive_features=A_train_all)\n",
    "        violation_expgrad_logistic_frac = disparity_moment.gamma(Qexp).max()\n",
    "\n",
    "        # error of log res\n",
    "        error = ErrorRate()\n",
    "        error.load_data(X_train_all, y_train_all,\n",
    "                        sensitive_features=A_train_all)\n",
    "        error_expgrad_logistic_frac = error.gamma(Qexp)[0]\n",
    "\n",
    "        _error_expgrad_fracs.append(error_expgrad_logistic_frac)\n",
    "        _vio_expgrad_fracs.append(violation_expgrad_logistic_frac)\n",
    "\n",
    "\n",
    "        # Grid Search part\n",
    "        lambda_vecs_logistic = expgrad_X_logistic_frac._lambda_vecs_lagrangian\n",
    "        grid_search_logistic_frac = GridSearch(\n",
    "            LogisticRegression(solver='liblinear', fit_intercept=True),\n",
    "            constraints=DemographicParity(), grid=lambda_vecs_logistic)\n",
    "        a=datetime.now()\n",
    "        grid_search_logistic_frac.fit(X_train_all, y_train_all,\n",
    "                                      sensitive_features=A_train_all)\n",
    "        b=datetime.now()\n",
    "        time_grid_frac = (b-a).seconds\n",
    "        _time_grid_fracs.append(time_grid_frac)\n",
    "        _time_hybrids.append(time_grid_frac + time_expgrad_frac)\n",
    "\n",
    "        def Qgrid(X): return grid_search_logistic_frac.predict(X)\n",
    "        # violation of log res\n",
    "        disparity_moment = DemographicParity()\n",
    "        disparity_moment.load_data(X_train_all, y_train_all,\n",
    "                                   sensitive_features=A_train_all)\n",
    "        violation_grid_frac = disparity_moment.gamma(Qgrid).max()\n",
    "\n",
    "        # error of log res\n",
    "        error = ErrorRate()\n",
    "        error.load_data(X_train_all, y_train_all,\n",
    "                        sensitive_features=A_train_all)\n",
    "        error_grid_frac = error.gamma(Qgrid)['all']\n",
    "\n",
    "        _vio_hybrids.append(violation_grid_frac)\n",
    "        _error_hybrids.append(error_grid_frac)\n",
    "\n",
    "\n",
    "        # Hybrid 2: pmf_predict with exp grad weights in grid search\n",
    "        _weights_logistic = expgrad_X_logistic_frac._weights\n",
    "        _predictors = grid_search_logistic_frac._predictors\n",
    "\n",
    "        def Qlog(X): return _pmf_predict(X, _predictors, _weights_logistic)[:,1]\n",
    "        # violation of log res\n",
    "        disparity_moment = DemographicParity()\n",
    "        disparity_moment.load_data(X_train_all, y_train_all, sensitive_features=A_train_all)\n",
    "        violation_grid_search_pmf = disparity_moment.gamma(Qlog).max()\n",
    "\n",
    "        # error of log res\n",
    "        error = ErrorRate()\n",
    "        error.load_data(X_train_all, y_train_all, sensitive_features=A_train_all)\n",
    "        error_grid_search_pmf = error.gamma(Qlog)[0]\n",
    "\n",
    "        _vio_grid_pmf_fracs.append(violation_grid_search_pmf)\n",
    "        _error_grid_pmf_fracs.append(error_grid_search_pmf)\n",
    "\n",
    "        # Hybrid 0: grid of best lambdas of each subset\n",
    "        lambda_vecs = expgrad_X_logistic_frac._lambda_vecs_LP\n",
    "        keys = lambda_vecs.keys()\n",
    "        _best_lambda[n] = lambda_vecs[keys[-1]]\n",
    "\n",
    "        #Hybrid 3: re-weight using LP\n",
    "        grid_errors = []\n",
    "        grid_vio = []\n",
    "        lagrangian = _Lagrangian(X_train_all, A_train_all, y_train_all,\n",
    "                               LogisticRegression(solver='liblinear', fit_intercept=True),\n",
    "                               DemographicParity(), eps, B)\n",
    "        _re_wts = []\n",
    "        for i in range(len(_predictors)):\n",
    "          h, h_idx = lagrangian.best_h(lambda_vecs_logistic[i])\n",
    "          reweights, _, _ = lagrangian.solve_linprog(nu=1e-6)\n",
    "\n",
    "          _re_wts.append(reweights)\n",
    "\n",
    "        _final_rewts = _re_wts[-1]\n",
    "        _final_rewts = _final_rewts.truncate(after=len(_predictors) - 1)\n",
    "        def Q_rewts(X): return _pmf_predict(X, _predictors, _final_rewts)[:,1]\n",
    "        # violation of log res\n",
    "        disparity_moment = DemographicParity()\n",
    "        disparity_moment.load_data(X_train_all, y_train_all, sensitive_features=A_train_all)\n",
    "        vio_rewts_pmf_ = disparity_moment.gamma(Q_rewts).max()\n",
    "\n",
    "        # error of log res\n",
    "        error = ErrorRate()\n",
    "        error.load_data(X_train_all, y_train_all, sensitive_features=A_train_all)\n",
    "        error_rewts_pmf_ = error.gamma(Q_rewts)[0]\n",
    "\n",
    "        _vio_rewts.append(vio_rewts_pmf_)\n",
    "        _error_rewts.append(error_rewts_pmf_)\n",
    "\n",
    "    time_expgrad_fracs.append(np.mean(_time_expgrad_fracs))\n",
    "    time_hybrids.append(np.mean(_time_hybrids))\n",
    "\n",
    "    # exp frac\n",
    "    error_expgrad_fracs.append(np.mean(_error_expgrad_fracs))\n",
    "    vio_expgrad_fracs.append(np.mean(_vio_expgrad_fracs))\n",
    "\n",
    "    error_expgrad_fracs_std.append(statistics.stdev(_error_expgrad_fracs))\n",
    "    vio_expgrad_fracs_std.append(statistics.stdev(_vio_expgrad_fracs))\n",
    "\n",
    "    # Hybrid 1\n",
    "    error_hybrids.append(np.mean(_error_hybrids))\n",
    "    vio_hybrids.append(np.mean(_vio_hybrids))\n",
    "\n",
    "    error_hybrids_std.append(statistics.stdev(_error_hybrids))\n",
    "    vio_hybrids_std.append(statistics.stdev(_vio_hybrids))\n",
    "\n",
    "    # Hybrid 2\n",
    "    vio_grid_pmf_fracs.append(np.mean(_vio_grid_pmf_fracs))\n",
    "    error_grid_pmf_fracs.append(np.mean(_error_grid_pmf_fracs))\n",
    "    \n",
    "    error_grid_pmf_fracs_std.append(statistics.stdev(_error_grid_pmf_fracs))\n",
    "    vio_grid_pmf_fracs_std.append(statistics.stdev(_vio_grid_pmf_fracs))\n",
    "\n",
    "    # Hybrid 3: re-weight using LP\n",
    "    vio_rewts_pmf.append(np.mean(_vio_rewts))\n",
    "    error_rewts_pmf.append(np.mean(_error_rewts))\n",
    "    \n",
    "    vio_rewts_pmf_std.append(statistics.stdev(_error_rewts))\n",
    "    error_rewts_pmf_std.append(statistics.stdev(_vio_rewts))\n",
    "\n",
    "    # Hybrid 0: grid of best lambdas of each subset\n",
    "    grid_search_best_lambdas = GridSearch(\n",
    "            LogisticRegression(solver='liblinear', fit_intercept=True),\n",
    "            constraints=DemographicParity(), grid=_best_lambda)\n",
    "    grid_search_best_lambdas.fit(X_train_all, y_train_all,\n",
    "                                      sensitive_features=A_train_all)\n",
    "    \n",
    "    def Qgrid(X): return grid_search_best_lambdas.predict(X)\n",
    "    # violation of log res\n",
    "    disparity_moment = DemographicParity()\n",
    "    disparity_moment.load_data(X_train_all, y_train_all,\n",
    "                                sensitive_features=A_train_all)\n",
    "    vio_lambda = disparity_moment.gamma(Qgrid).max()\n",
    "\n",
    "    # error of log res\n",
    "    error = ErrorRate()\n",
    "    error.load_data(X_train_all, y_train_all,\n",
    "                    sensitive_features=A_train_all)\n",
    "    error_lambda = error.gamma(Qgrid)['all']\n",
    "\n",
    "    vio_best_lambdas.append(vio_lambda)\n",
    "    error_best_lambdas.append(error_lambda)\n",
    "\n",
    "    predictors_best_lambda = grid_search_best_lambdas._predictors\n",
    "    result_gap = []\n",
    "    for i in range(len(predictors_best_lambda)):\n",
    "      def Q(X): return predictors_best_lambda[i].predict(X)\n",
    "      lagrangian = _Lagrangian(X_train_all, A_train_all, y_train_all,\n",
    "                               predictors_best_lambda[i],\n",
    "                               DemographicParity(), eps, B)\n",
    "      res = lagrangian.eval_gap(Q, _best_lambda[i], nu=1e-6)\n",
    "      result_gap.append(res.gap())\n",
    "      \n",
    "    # eval gap mean and std\n",
    "    eval_gap_mean.append(np.mean(result_gap))\n",
    "    eval_gap_max.append(np.max(result_gap))\n",
    "    eval_gap_std.append(statistics.stdev(result_gap))\n",
    "\n"
   ]
  },
  {
   "cell_type": "code",
   "execution_count": 84,
   "metadata": {
    "colab": {
     "base_uri": "https://localhost:8080/",
     "height": 294
    },
    "colab_type": "code",
    "executionInfo": {
     "elapsed": 843,
     "status": "ok",
     "timestamp": 1591040794838,
     "user": {
      "displayName": "Parul Gupta",
      "photoUrl": "https://lh3.googleusercontent.com/a-/AOh14Gjzx9Gg7u--OtTsSQHEyX2mNCuOkuT12Eq4CYXf=s64",
      "userId": "14512472131783578125"
     },
     "user_tz": 240
    },
    "id": "3xtWJMrPpo1i",
    "outputId": "c81c65d3-19ec-45f2-87c9-459b0eeb5276"
   },
   "outputs": [
    {
     "data": {
      "image/png": "[encoded data removed]",
      "text/plain": [
       "<Figure size 432x288 with 1 Axes>"
      ]
     },
     "metadata": {
      "needs_background": "light",
      "tags": []
     },
     "output_type": "display_data"
    }
   ],
   "source": [
    "# Print Time and plot them\n",
    "fr = np.log(fractions) \n",
    "\n",
    "import matplotlib.pyplot as plt\n",
    "\n",
    "l1 = plt.plot(fr, time_expgrad_alls,'r--',label=\"expgrad on full\")\n",
    "l2 = plt.plot(fr, time_expgrad_fracs,'b--',label=\"expgrad on partial\")\n",
    "l3 = plt.plot(fr, time_hybrids,'c--',label=\"hybrid total\")\n",
    "plt.plot(fr, time_expgrad_alls,'ro-',\n",
    "         fr, time_expgrad_fracs,'bo-', fr, time_hybrids,'co-')\n",
    "plt.xlabel('Fraction (in log scale)')\n",
    "plt.ylabel('Time (second)')\n",
    "plt.title('Fitting time v.s. Fraction')\n",
    "plt.grid()\n",
    "plt.legend()\n",
    "plt.show()\n",
    "\n"
   ]
  },
  {
   "cell_type": "code",
   "execution_count": 95,
   "metadata": {
    "colab": {
     "base_uri": "https://localhost:8080/",
     "height": 571
    },
    "colab_type": "code",
    "executionInfo": {
     "elapsed": 1400,
     "status": "ok",
     "timestamp": 1591043417190,
     "user": {
      "displayName": "Parul Gupta",
      "photoUrl": "https://lh3.googleusercontent.com/a-/AOh14Gjzx9Gg7u--OtTsSQHEyX2mNCuOkuT12Eq4CYXf=s64",
      "userId": "14512472131783578125"
     },
     "user_tz": 240
    },
    "id": "ZQnXxRX2a8Ro",
    "outputId": "534d8a21-f6a7-4359-9311-67b3a06363c3"
   },
   "outputs": [
    {
     "data": {
      "image/png": "[encoded data removed]",
      "text/plain": [
       "<Figure size 432x288 with 1 Axes>"
      ]
     },
     "metadata": {
      "needs_background": "light",
      "tags": []
     },
     "output_type": "display_data"
    },
    {
     "data": {
      "image/png": "[encoded data removed]",
      "text/plain": [
       "<Figure size 432x288 with 1 Axes>"
      ]
     },
     "metadata": {
      "needs_background": "light",
      "tags": []
     },
     "output_type": "display_data"
    }
   ],
   "source": [
    "\n",
    "l1 = plt.plot(fr, error_expgrad_alls,'r--',label=\"expgrad on full\")\n",
    "l2 = plt.plot(fr, error_expgrad_fracs,'g--',label=\"expgrad on partial\")\n",
    "l3 = plt.plot(fr, error_hybrids,'b--',label=\"hybrid 1\")\n",
    "l4 = plt.plot(fr, error_grid_pmf_fracs,'c--',label=\"hybrid 2\")\n",
    "l5 = plt.plot(fr, error_best_lambdas,'m--',label=\"hybrid 0\")\n",
    "l6 = plt.plot(fr, error_rewts_pmf,'k--',label=\"hybrid 3\")\n",
    "plt.plot(fr, error_expgrad_alls,'ro-', fr, error_expgrad_fracs,'go-',\n",
    "         fr, error_hybrids,'bo-', fr, error_grid_pmf_fracs,'co-',\n",
    "         fr, error_best_lambdas,'mo-', fr, error_rewts_pmf,'ko-'\n",
    "         )\n",
    "plt.xlabel('Fraction (in log scale)')\n",
    "plt.ylabel('Error')\n",
    "plt.title('Error v.s. Fraction')\n",
    "plt.grid()\n",
    "plt.legend()\n",
    "plt.show()\n",
    "\n",
    "l1 = plt.plot(fr, vio_expgrad_alls,'r--',label=\"expgrad on full\")\n",
    "l2 = plt.plot(fr, vio_expgrad_fracs,'g--',label=\"expgrad on partial\")\n",
    "l3 = plt.plot(fr, vio_hybrids,'b--',label=\"hybrid 1\")\n",
    "l4 = plt.plot(fr, vio_grid_pmf_fracs,'c--',label=\"hybrid 2\")\n",
    "l5 = plt.plot(fr, vio_best_lambdas,'m--',label=\"hybrid 0\")\n",
    "l6 = plt.plot(fr, vio_rewts_pmf,'k--',label=\"hybrid 3\")\n",
    "plt.plot(fr, vio_expgrad_alls,'ro-', fr, vio_expgrad_fracs,'go-',\n",
    "         fr, vio_hybrids,'bo-', fr, vio_grid_pmf_fracs,'co-',\n",
    "         fr, vio_best_lambdas,'mo-', fr, vio_rewts_pmf,'ko-'\n",
    "         )\n",
    "plt.xlabel('Fraction (in log scale)')\n",
    "plt.ylabel('Violation')\n",
    "plt.title('Violation v.s. Fraction')\n",
    "plt.grid()\n",
    "plt.legend()\n",
    "plt.show()"
   ]
  },
  {
   "cell_type": "code",
   "execution_count": 80,
   "metadata": {
    "colab": {
     "base_uri": "https://localhost:8080/",
     "height": 571
    },
    "colab_type": "code",
    "executionInfo": {
     "elapsed": 4525362,
     "status": "ok",
     "timestamp": 1591039670383,
     "user": {
      "displayName": "Parul Gupta",
      "photoUrl": "https://lh3.googleusercontent.com/a-/AOh14Gjzx9Gg7u--OtTsSQHEyX2mNCuOkuT12Eq4CYXf=s64",
      "userId": "14512472131783578125"
     },
     "user_tz": 240
    },
    "id": "zh-6SlZzrbZj",
    "outputId": "e0a4123e-64a6-45c4-b5ec-da8383393053"
   },
   "outputs": [
    {
     "data": {
      "image/png": "[encoded data removed]",
      "text/plain": [
       "<Figure size 432x288 with 1 Axes>"
      ]
     },
     "metadata": {
      "needs_background": "light",
      "tags": []
     },
     "output_type": "display_data"
    },
    {
     "data": {
      "image/png": "[encoded data removed]",
      "text/plain": [
       "<Figure size 432x288 with 1 Axes>"
      ]
     },
     "metadata": {
      "needs_background": "light",
      "tags": []
     },
     "output_type": "display_data"
    }
   ],
   "source": [
    "# error bars of result of various subsamples per fraction\n",
    "plt.errorbar(fr, vio_hybrids, np.multiply(vio_hybrids_std, 2), linestyle='',color='b', label=\"hybrid 1\")\n",
    "plt.errorbar(fr, vio_grid_pmf_fracs, np.multiply(vio_grid_pmf_fracs_std, 2), linestyle='', color='c', label=\"hybrid 2\")\n",
    "plt.xlabel('Fraction (in log scale)')\n",
    "plt.ylabel('Violation')\n",
    "plt.title('Violation v.s. Fraction -- Error bars')\n",
    "plt.grid()\n",
    "plt.legend()\n",
    "plt.show()\n",
    "\n",
    "plt.errorbar(fr, error_hybrids, np.multiply(error_hybrids_std, 2), linestyle='',color='b', label=\"hybrid 1\")\n",
    "plt.errorbar(fr, error_grid_pmf_fracs, np.multiply(error_grid_pmf_fracs_std, 2), linestyle='', color='c', label=\"hybrid 2\")\n",
    "plt.xlabel('Fraction (in log scale)')\n",
    "plt.ylabel('Error')\n",
    "plt.title('Error v.s. Fraction -- Error bars')\n",
    "plt.grid()\n",
    "plt.legend()\n",
    "plt.show()\n"
   ]
  },
  {
   "cell_type": "code",
   "execution_count": 93,
   "metadata": {
    "colab": {
     "base_uri": "https://localhost:8080/",
     "height": 428
    },
    "colab_type": "code",
    "executionInfo": {
     "elapsed": 703,
     "status": "ok",
     "timestamp": 1591043150757,
     "user": {
      "displayName": "Parul Gupta",
      "photoUrl": "https://lh3.googleusercontent.com/a-/AOh14Gjzx9Gg7u--OtTsSQHEyX2mNCuOkuT12Eq4CYXf=s64",
      "userId": "14512472131783578125"
     },
     "user_tz": 240
    },
    "id": "Zyl7BDpVDKv6",
    "outputId": "b5e92f5c-840d-42cf-b312-17fd4133b0ad"
   },
   "outputs": [
    {
     "name": "stdout",
     "output_type": "stream",
     "text": [
      "Model\t\t\tError\n",
      "Exp.Grad. on full\t0.391800773607157\n",
      "---------------------------------------------\n",
      "- \t\t Hybrid 1 \t\t Hybrid 2 \t\t Hybrid 0 \t\t Hybrid 3\n",
      "Fraction\tError \tVio\t\tError\tVio\t\tError \tVio\t\tError\tVio\n",
      "0.01\t\t0.36005\t0.36005\t\t0.36253\t0.10994\t\t0.34446\t0.10089\t\t0.43055\t0.0796\n",
      "0.01274\t\t0.33831\t0.33831\t\t0.35475\t0.12367\t\t0.34955\t0.09647\t\t0.41406\t0.07967\n",
      "0.01624\t\t0.34771\t0.34771\t\t0.34225\t0.1317\t\t0.32919\t0.13092\t\t0.40107\t0.09146\n",
      "0.02069\t\t0.35023\t0.35023\t\t0.3582\t0.11553\t\t0.34983\t0.09747\t\t0.45366\t0.08423\n",
      "0.02637\t\t0.35197\t0.35197\t\t0.35244\t0.11363\t\t0.35464\t0.09328\t\t0.47287\t0.07919\n",
      "0.0336\t\t0.35014\t0.35014\t\t0.35489\t0.10758\t\t0.34446\t0.10089\t\t0.4478\t0.05851\n",
      "0.04281\t\t0.35437\t0.35437\t\t0.36078\t0.10073\t\t0.34163\t0.10326\t\t0.4769\t0.07528\n",
      "0.05456\t\t0.34966\t0.34966\t\t0.37224\t0.08923\t\t0.34106\t0.10398\t\t0.47383\t0.07182\n",
      "0.06952\t\t0.3581\t0.3581\t\t0.37262\t0.0851\t\t0.44429\t8e-05\t\t0.48346\t0.06337\n",
      "0.08859\t\t0.35933\t0.35933\t\t0.36922\t0.08865\t\t0.35407\t0.09313\t\t0.45102\t0.07344\n",
      "0.11288\t\t0.35068\t0.35068\t\t0.37721\t0.07706\t\t0.34219\t0.10238\t\t0.47328\t0.07566\n",
      "0.14384\t\t0.3669\t0.3669\t\t0.38984\t0.06662\t\t0.33512\t0.113\t\t0.50681\t0.09388\n",
      "0.1833\t\t0.35345\t0.35345\t\t0.38752\t0.0673\t\t0.34955\t0.09647\t\t0.48828\t0.07936\n",
      "0.23357\t\t0.35561\t0.35561\t\t0.38782\t0.06702\t\t0.34446\t0.10089\t\t0.49743\t0.08128\n",
      "0.29764\t\t0.35857\t0.35857\t\t0.39236\t0.05841\t\t0.3388\t0.10974\t\t0.48361\t0.08349\n",
      "0.37927\t\t0.35995\t0.35995\t\t0.3943\t0.06131\t\t0.37076\t0.07824\t\t0.47689\t0.06969\n",
      "0.48329\t\t0.34873\t0.34873\t\t0.38889\t0.05713\t\t0.38009\t0.06917\t\t0.46547\t0.07058\n",
      "0.61585\t\t0.35181\t0.35181\t\t0.39326\t0.05345\t\t0.42025\t0.02937\t\t0.48301\t0.06779\n",
      "0.78476\t\t0.33959\t0.33959\t\t0.39106\t0.05335\t\t0.444\t0.00036\t\t0.489\t0.07185\n",
      "1.0\t\t0.33512\t0.33512\t\t0.39162\t0.04981\t\t0.44712\t0.00429\t\t0.33026\t0.13304\n"
     ]
    }
   ],
   "source": [
    "import math\n",
    "\n",
    "# Print Error and plot them\n",
    "print('Model\\t\\t\\tError')\n",
    "print('{}\\t{}'.format('Exp.Grad. on full', error_expgrad_alls[0]))\n",
    "#print('{}\\t{}'.format('Grid Search on full', error_grid_alls[0]))\n",
    "print('---------------------------------------------')\n",
    "print('- \\t\\t Hybrid 1 \\t\\t Hybrid 2 \\t\\t Hybrid 0 \\t\\t Hybrid 3')\n",
    "print('Fraction\\tError \\tVio\\t\\tError\\tVio\\t\\tError \\tVio\\t\\tError\\tVio')\n",
    "\n",
    "for i in range(len(fractions)):\n",
    "    print('{}\\t\\t{}\\t{}\\t\\t{}\\t{}\\t\\t{}\\t{}\\t\\t{}\\t{}'.format(round(fractions[i], 5),\n",
    "                                          round(error_hybrids[i],5), round(error_hybrids[i],5), \n",
    "                                          round(error_grid_pmf_fracs[i],5), round(vio_grid_pmf_fracs[i],5),\n",
    "                                          round(error_best_lambdas[i],5), round(vio_best_lambdas[i],5),\n",
    "                                          round(error_rewts_pmf[i],5), round(vio_rewts_pmf[i],5)))\n"
   ]
  },
  {
   "cell_type": "code",
   "execution_count": 96,
   "metadata": {
    "colab": {
     "base_uri": "https://localhost:8080/",
     "height": 294
    },
    "colab_type": "code",
    "executionInfo": {
     "elapsed": 637,
     "status": "ok",
     "timestamp": 1591045836494,
     "user": {
      "displayName": "Parul Gupta",
      "photoUrl": "https://lh3.googleusercontent.com/a-/AOh14Gjzx9Gg7u--OtTsSQHEyX2mNCuOkuT12Eq4CYXf=s64",
      "userId": "14512472131783578125"
     },
     "user_tz": 240
    },
    "id": "XpK4GQfUDObY",
    "outputId": "fc9ea774-8661-49fa-d94c-bceb92b1ad0a"
   },
   "outputs": [
    {
     "data": {
      "image/png": "[encoded data removed]",
      "text/plain": [
       "<Figure size 432x288 with 1 Axes>"
      ]
     },
     "metadata": {
      "needs_background": "light",
      "tags": []
     },
     "output_type": "display_data"
    }
   ],
   "source": [
    "plt.errorbar(fr, eval_gap_mean, np.multiply(eval_gap_std, 2), color='b', label=\"Eval gap\")\n",
    "plt.xlabel('Fraction (in log scale)')\n",
    "plt.ylabel('Eval Gap from various subsets')\n",
    "plt.title('Eval gap v.s. Fraction -- Error bars')\n",
    "plt.grid()\n",
    "plt.legend()\n",
    "plt.show()\n"
   ]
  },
  {
   "cell_type": "code",
   "execution_count": 98,
   "metadata": {
    "colab": {
     "base_uri": "https://localhost:8080/",
     "height": 294
    },
    "colab_type": "code",
    "executionInfo": {
     "elapsed": 662,
     "status": "ok",
     "timestamp": 1591045881279,
     "user": {
      "displayName": "Parul Gupta",
      "photoUrl": "https://lh3.googleusercontent.com/a-/AOh14Gjzx9Gg7u--OtTsSQHEyX2mNCuOkuT12Eq4CYXf=s64",
      "userId": "14512472131783578125"
     },
     "user_tz": 240
    },
    "id": "sHfxsRO1uMun",
    "outputId": "36cf12f2-706f-4a10-a784-fae16f1b101e"
   },
   "outputs": [
    {
     "data": {
      "image/png": "[encoded data removed]",
      "text/plain": [
       "<Figure size 432x288 with 1 Axes>"
      ]
     },
     "metadata": {
      "needs_background": "light",
      "tags": []
     },
     "output_type": "display_data"
    }
   ],
   "source": [
    "plt.plot(fr, eval_gap_max, color='b', label=\"Max Eval Gap\")\n",
    "plt.xlabel('Fraction (in log scale)')\n",
    "plt.ylabel('Eval Gap from various subsets')\n",
    "plt.title('Eval gap v.s. Fraction -- Error bars')\n",
    "plt.grid()\n",
    "plt.legend()\n",
    "plt.show()\n"
   ]
  },
  {
   "cell_type": "code",
   "execution_count": 0,
   "metadata": {
    "colab": {},
    "colab_type": "code",
    "id": "AzH_y0HLuPiI"
   },
   "outputs": [],
   "source": []
  }
 ],
 "metadata": {
  "colab": {
   "collapsed_sections": [],
   "name": "hybrid-lagrangian-compas.ipynb",
   "provenance": []
  },
  "kernelspec": {
   "display_name": "Python 3",
   "language": "python",
   "name": "python3"
  },
  "language_info": {
   "codemirror_mode": {
    "name": "ipython",
    "version": 3
   },
   "file_extension": ".py",
   "mimetype": "text/x-python",
   "name": "python",
   "nbconvert_exporter": "python",
   "pygments_lexer": "ipython3",
   "version": "3.7.3"
  }
 },
 "nbformat": 4,
 "nbformat_minor": 1
}
