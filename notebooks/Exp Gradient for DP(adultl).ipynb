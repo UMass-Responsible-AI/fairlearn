{
 "cells": [
  {
   "cell_type": "code",
   "execution_count": 22,
   "metadata": {},
   "outputs": [
    {
     "data": {
      "text/html": [
       "<div>\n",
       "<style scoped>\n",
       "    .dataframe tbody tr th:only-of-type {\n",
       "        vertical-align: middle;\n",
       "    }\n",
       "\n",
       "    .dataframe tbody tr th {\n",
       "        vertical-align: top;\n",
       "    }\n",
       "\n",
       "    .dataframe thead th {\n",
       "        text-align: right;\n",
       "    }\n",
       "</style>\n",
       "<table border=\"1\" class=\"dataframe\">\n",
       "  <thead>\n",
       "    <tr style=\"text-align: right;\">\n",
       "      <th></th>\n",
       "      <th>Age</th>\n",
       "      <th>Workclass</th>\n",
       "      <th>Education-Num</th>\n",
       "      <th>Marital Status</th>\n",
       "      <th>Occupation</th>\n",
       "      <th>Relationship</th>\n",
       "      <th>Capital Gain</th>\n",
       "      <th>Capital Loss</th>\n",
       "      <th>Hours per week</th>\n",
       "      <th>Country</th>\n",
       "      <th>y</th>\n",
       "      <th>Race</th>\n",
       "    </tr>\n",
       "  </thead>\n",
       "  <tbody>\n",
       "    <tr>\n",
       "      <th>0</th>\n",
       "      <td>34.0</td>\n",
       "      <td>6.0</td>\n",
       "      <td>14.0</td>\n",
       "      <td>2.0</td>\n",
       "      <td>5.0</td>\n",
       "      <td>4.0</td>\n",
       "      <td>0.0</td>\n",
       "      <td>0.0</td>\n",
       "      <td>60.0</td>\n",
       "      <td>39.0</td>\n",
       "      <td>0</td>\n",
       "      <td>4.0</td>\n",
       "    </tr>\n",
       "    <tr>\n",
       "      <th>1</th>\n",
       "      <td>22.0</td>\n",
       "      <td>4.0</td>\n",
       "      <td>9.0</td>\n",
       "      <td>4.0</td>\n",
       "      <td>1.0</td>\n",
       "      <td>0.0</td>\n",
       "      <td>0.0</td>\n",
       "      <td>0.0</td>\n",
       "      <td>60.0</td>\n",
       "      <td>39.0</td>\n",
       "      <td>0</td>\n",
       "      <td>4.0</td>\n",
       "    </tr>\n",
       "    <tr>\n",
       "      <th>2</th>\n",
       "      <td>30.0</td>\n",
       "      <td>4.0</td>\n",
       "      <td>13.0</td>\n",
       "      <td>4.0</td>\n",
       "      <td>12.0</td>\n",
       "      <td>0.0</td>\n",
       "      <td>0.0</td>\n",
       "      <td>0.0</td>\n",
       "      <td>40.0</td>\n",
       "      <td>39.0</td>\n",
       "      <td>1</td>\n",
       "      <td>4.0</td>\n",
       "    </tr>\n",
       "    <tr>\n",
       "      <th>3</th>\n",
       "      <td>40.0</td>\n",
       "      <td>4.0</td>\n",
       "      <td>11.0</td>\n",
       "      <td>4.0</td>\n",
       "      <td>7.0</td>\n",
       "      <td>3.0</td>\n",
       "      <td>0.0</td>\n",
       "      <td>0.0</td>\n",
       "      <td>40.0</td>\n",
       "      <td>39.0</td>\n",
       "      <td>0</td>\n",
       "      <td>4.0</td>\n",
       "    </tr>\n",
       "    <tr>\n",
       "      <th>4</th>\n",
       "      <td>62.0</td>\n",
       "      <td>4.0</td>\n",
       "      <td>10.0</td>\n",
       "      <td>0.0</td>\n",
       "      <td>1.0</td>\n",
       "      <td>0.0</td>\n",
       "      <td>0.0</td>\n",
       "      <td>1974.0</td>\n",
       "      <td>40.0</td>\n",
       "      <td>39.0</td>\n",
       "      <td>0</td>\n",
       "      <td>4.0</td>\n",
       "    </tr>\n",
       "    <tr>\n",
       "      <th>...</th>\n",
       "      <td>...</td>\n",
       "      <td>...</td>\n",
       "      <td>...</td>\n",
       "      <td>...</td>\n",
       "      <td>...</td>\n",
       "      <td>...</td>\n",
       "      <td>...</td>\n",
       "      <td>...</td>\n",
       "      <td>...</td>\n",
       "      <td>...</td>\n",
       "      <td>...</td>\n",
       "      <td>...</td>\n",
       "    </tr>\n",
       "    <tr>\n",
       "      <th>21810</th>\n",
       "      <td>55.0</td>\n",
       "      <td>1.0</td>\n",
       "      <td>9.0</td>\n",
       "      <td>2.0</td>\n",
       "      <td>4.0</td>\n",
       "      <td>4.0</td>\n",
       "      <td>0.0</td>\n",
       "      <td>0.0</td>\n",
       "      <td>40.0</td>\n",
       "      <td>39.0</td>\n",
       "      <td>0</td>\n",
       "      <td>4.0</td>\n",
       "    </tr>\n",
       "    <tr>\n",
       "      <th>21811</th>\n",
       "      <td>33.0</td>\n",
       "      <td>7.0</td>\n",
       "      <td>9.0</td>\n",
       "      <td>2.0</td>\n",
       "      <td>13.0</td>\n",
       "      <td>4.0</td>\n",
       "      <td>0.0</td>\n",
       "      <td>0.0</td>\n",
       "      <td>40.0</td>\n",
       "      <td>39.0</td>\n",
       "      <td>0</td>\n",
       "      <td>4.0</td>\n",
       "    </tr>\n",
       "    <tr>\n",
       "      <th>21812</th>\n",
       "      <td>19.0</td>\n",
       "      <td>6.0</td>\n",
       "      <td>9.0</td>\n",
       "      <td>4.0</td>\n",
       "      <td>3.0</td>\n",
       "      <td>3.0</td>\n",
       "      <td>0.0</td>\n",
       "      <td>0.0</td>\n",
       "      <td>40.0</td>\n",
       "      <td>39.0</td>\n",
       "      <td>0</td>\n",
       "      <td>4.0</td>\n",
       "    </tr>\n",
       "    <tr>\n",
       "      <th>21813</th>\n",
       "      <td>23.0</td>\n",
       "      <td>4.0</td>\n",
       "      <td>9.0</td>\n",
       "      <td>4.0</td>\n",
       "      <td>14.0</td>\n",
       "      <td>0.0</td>\n",
       "      <td>0.0</td>\n",
       "      <td>0.0</td>\n",
       "      <td>38.0</td>\n",
       "      <td>39.0</td>\n",
       "      <td>0</td>\n",
       "      <td>4.0</td>\n",
       "    </tr>\n",
       "    <tr>\n",
       "      <th>21814</th>\n",
       "      <td>19.0</td>\n",
       "      <td>4.0</td>\n",
       "      <td>9.0</td>\n",
       "      <td>4.0</td>\n",
       "      <td>8.0</td>\n",
       "      <td>3.0</td>\n",
       "      <td>0.0</td>\n",
       "      <td>0.0</td>\n",
       "      <td>40.0</td>\n",
       "      <td>39.0</td>\n",
       "      <td>0</td>\n",
       "      <td>4.0</td>\n",
       "    </tr>\n",
       "  </tbody>\n",
       "</table>\n",
       "<p>21815 rows × 12 columns</p>\n",
       "</div>"
      ],
      "text/plain": [
       "        Age  Workclass  Education-Num  Marital Status  Occupation  \\\n",
       "0      34.0        6.0           14.0             2.0         5.0   \n",
       "1      22.0        4.0            9.0             4.0         1.0   \n",
       "2      30.0        4.0           13.0             4.0        12.0   \n",
       "3      40.0        4.0           11.0             4.0         7.0   \n",
       "4      62.0        4.0           10.0             0.0         1.0   \n",
       "...     ...        ...            ...             ...         ...   \n",
       "21810  55.0        1.0            9.0             2.0         4.0   \n",
       "21811  33.0        7.0            9.0             2.0        13.0   \n",
       "21812  19.0        6.0            9.0             4.0         3.0   \n",
       "21813  23.0        4.0            9.0             4.0        14.0   \n",
       "21814  19.0        4.0            9.0             4.0         8.0   \n",
       "\n",
       "       Relationship  Capital Gain  Capital Loss  Hours per week  Country  y  \\\n",
       "0               4.0           0.0           0.0            60.0     39.0  0   \n",
       "1               0.0           0.0           0.0            60.0     39.0  0   \n",
       "2               0.0           0.0           0.0            40.0     39.0  1   \n",
       "3               3.0           0.0           0.0            40.0     39.0  0   \n",
       "4               0.0           0.0        1974.0            40.0     39.0  0   \n",
       "...             ...           ...           ...             ...      ... ..   \n",
       "21810           4.0           0.0           0.0            40.0     39.0  0   \n",
       "21811           4.0           0.0           0.0            40.0     39.0  0   \n",
       "21812           3.0           0.0           0.0            40.0     39.0  0   \n",
       "21813           0.0           0.0           0.0            38.0     39.0  0   \n",
       "21814           3.0           0.0           0.0            40.0     39.0  0   \n",
       "\n",
       "       Race  \n",
       "0       4.0  \n",
       "1       4.0  \n",
       "2       4.0  \n",
       "3       4.0  \n",
       "4       4.0  \n",
       "...     ...  \n",
       "21810   4.0  \n",
       "21811   4.0  \n",
       "21812   4.0  \n",
       "21813   4.0  \n",
       "21814   4.0  \n",
       "\n",
       "[21815 rows x 12 columns]"
      ]
     },
     "metadata": {},
     "output_type": "display_data"
    }
   ],
   "source": [
    "import numpy as np\n",
    "import pandas as pd\n",
    "from IPython.display import display, HTML\n",
    "\n",
    "# Load the data using the tempeh package\n",
    "from tempeh.configurations import datasets\n",
    "dataset = datasets['adult_uci']()\n",
    "\n",
    "X_train, X_test = dataset.get_X(format=pd.DataFrame)\n",
    "A_train, A_test = X_train.get(key='Race'), X_test.get(key='Race')\n",
    "X_train, X_test = X_train.drop(columns=['Race','Sex']), X_test.drop(columns=['Race','Sex'])\n",
    "\n",
    "y_train, y_test = dataset.get_y(format=pd.Series)\n",
    "\n",
    "# Combine all training data into a single data frame and glance at a few rows\n",
    "all_train = pd.concat([X_train, y_train, A_train], axis=1)\n",
    "display(all_train)"
   ]
  },
  {
   "cell_type": "code",
   "execution_count": 23,
   "metadata": {},
   "outputs": [],
   "source": [
    "class LeastSquaresBinaryClassifierLearner:\n",
    "    def __init__(self):\n",
    "        self.weights = None\n",
    "\n",
    "    def fit(self, X, Y, sample_weight):\n",
    "        sqrtW = np.sqrt(sample_weight)\n",
    "        matX = np.array(X) * sqrtW[:, np.newaxis]\n",
    "        \n",
    "        vecY = Y * sqrtW\n",
    "        self.lsqinfo = np.linalg.lstsq(matX, vecY, rcond=-1)\n",
    "        self.weights = pd.Series(self.lsqinfo[0], index=list(X))\n",
    "\n",
    "    def predict(self, X):\n",
    "        pred = X.dot(np.asarray(self.weights))\n",
    "        return 1 * (pred > 0.5)"
   ]
  },
  {
   "cell_type": "code",
   "execution_count": 24,
   "metadata": {},
   "outputs": [
    {
     "data": {
      "text/plain": [
       "LogisticRegression(C=1.0, class_weight=None, dual=False, fit_intercept=True,\n",
       "                   intercept_scaling=1, l1_ratio=None, max_iter=100,\n",
       "                   multi_class='auto', n_jobs=None, penalty='l2',\n",
       "                   random_state=None, solver='liblinear', tol=0.0001, verbose=0,\n",
       "                   warm_start=False)"
      ]
     },
     "execution_count": 24,
     "metadata": {},
     "output_type": "execute_result"
    }
   ],
   "source": [
    "from sklearn.linear_model import LogisticRegression\n",
    "unmitigated_predictor = LogisticRegression(solver='liblinear', fit_intercept=True)\n",
    "unmitigated_predictor.fit(X_train, y_train)"
   ]
  },
  {
   "cell_type": "code",
   "execution_count": 25,
   "metadata": {},
   "outputs": [
    {
     "data": {
      "text/html": [
       "<span id=\"auc_unmitigated\">"
      ],
      "text/plain": [
       "<IPython.core.display.HTML object>"
      ]
     },
     "metadata": {},
     "output_type": "display_data"
    },
    {
     "data": {
      "text/html": [
       "<div>\n",
       "<style scoped>\n",
       "    .dataframe tbody tr th:only-of-type {\n",
       "        vertical-align: middle;\n",
       "    }\n",
       "\n",
       "    .dataframe tbody tr th {\n",
       "        vertical-align: top;\n",
       "    }\n",
       "\n",
       "    .dataframe thead th {\n",
       "        text-align: right;\n",
       "    }\n",
       "</style>\n",
       "<table border=\"1\" class=\"dataframe\">\n",
       "  <thead>\n",
       "    <tr style=\"text-align: right;\">\n",
       "      <th></th>\n",
       "      <th>auc_unmitigated</th>\n",
       "    </tr>\n",
       "  </thead>\n",
       "  <tbody>\n",
       "    <tr>\n",
       "      <th>0.0</th>\n",
       "      <td>0.791246</td>\n",
       "    </tr>\n",
       "    <tr>\n",
       "      <th>1.0</th>\n",
       "      <td>0.857441</td>\n",
       "    </tr>\n",
       "    <tr>\n",
       "      <th>2.0</th>\n",
       "      <td>0.909895</td>\n",
       "    </tr>\n",
       "    <tr>\n",
       "      <th>3.0</th>\n",
       "      <td>0.957476</td>\n",
       "    </tr>\n",
       "    <tr>\n",
       "      <th>4.0</th>\n",
       "      <td>0.883496</td>\n",
       "    </tr>\n",
       "    <tr>\n",
       "      <th>overall</th>\n",
       "      <td>0.886656</td>\n",
       "    </tr>\n",
       "  </tbody>\n",
       "</table>\n",
       "</div>"
      ],
      "text/plain": [
       "         auc_unmitigated\n",
       "0.0             0.791246\n",
       "1.0             0.857441\n",
       "2.0             0.909895\n",
       "3.0             0.957476\n",
       "4.0             0.883496\n",
       "overall         0.886656"
      ]
     },
     "metadata": {},
     "output_type": "display_data"
    },
    {
     "data": {
      "text/html": [
       "</span>"
      ],
      "text/plain": [
       "<IPython.core.display.HTML object>"
      ]
     },
     "metadata": {},
     "output_type": "display_data"
    }
   ],
   "source": [
    "from fairlearn.metrics import group_roc_auc_score\n",
    "\n",
    "# a convenience function that transforms the result of a group metric call into a data frame\n",
    "def group_metric_as_df(name, group_metric_result):\n",
    "    a = pd.Series(group_metric_result.by_group)\n",
    "    a['overall'] = group_metric_result.overall\n",
    "    return pd.DataFrame({name: a})\n",
    "\n",
    "scores_unmitigated = pd.Series(unmitigated_predictor.predict_proba(X_test)[:,1], name=\"score_unmitigated\")\n",
    "auc_unmitigated = group_metric_as_df(\"auc_unmitigated\",\n",
    "                                     group_roc_auc_score(y_test, scores_unmitigated, A_test))\n",
    "\n",
    "display(HTML('<span id=\"auc_unmitigated\">'),\n",
    "        auc_unmitigated,\n",
    "        HTML('</span>'))"
   ]
  },
  {
   "cell_type": "code",
   "execution_count": 26,
   "metadata": {},
   "outputs": [],
   "source": [
    "def get_error(y,predicted_y):\n",
    "    correct_y = (y == predicted_y)\n",
    "    return 1 - sum(correct_y)/len(correct_y)"
   ]
  },
  {
   "cell_type": "code",
   "execution_count": 27,
   "metadata": {},
   "outputs": [
    {
     "name": "stdout",
     "output_type": "stream",
     "text": [
      "The error for unmitigated is:\n",
      "[0.15633724176437747]\n"
     ]
    }
   ],
   "source": [
    "unmitigated_y = pd.Series(unmitigated_predictor.predict(X_test),name=\"unmitigated_predicted_y\")\n",
    "error_unmitigated = [get_error(y_test,unmitigated_y)]\n",
    "print(\"The error for unmitigated is:\")\n",
    "print(error_unmitigated)"
   ]
  },
  {
   "cell_type": "code",
   "execution_count": 28,
   "metadata": {},
   "outputs": [
    {
     "name": "stdout",
     "output_type": "stream",
     "text": [
      "The violation for unmitigated is:\n",
      "[0.1175321049692909]\n"
     ]
    }
   ],
   "source": [
    "def get_violation(predict_y,A_test,label_name):\n",
    "    violations = []\n",
    "    predicted_and_sensitiveFeature = pd.concat([predict_y,A_test],axis=1)\n",
    "    grouped =predicted_and_sensitiveFeature.groupby('Race')\n",
    "    counts_by_race = grouped[[label_name]].count()\n",
    "    passed_by_race = grouped[[label_name]].sum()\n",
    "\n",
    "    for i,group in enumerate(grouped.groups.keys()):\n",
    "        violation_1 = passed_by_race[label_name][i] / counts_by_race[label_name][i]\n",
    "        violation_2 = sum(predict_y) / len(predict_y)\n",
    "        violations.append(abs(violation_1 - violation_2))\n",
    "    violation = max(violations)\n",
    "    return violation\n",
    "\n",
    "def get_violation_ratio(predict_y,A_test,label_name,r):\n",
    "    violations = []\n",
    "    predicted_and_sensitiveFeature = pd.concat([predict_y,A_test],axis=1)\n",
    "    grouped =predicted_and_sensitiveFeature.groupby('Race')\n",
    "    counts_by_race = grouped[[label_name]].count()\n",
    "    passed_by_race = grouped[[label_name]].sum()\n",
    "\n",
    "    for i,group in enumerate(grouped.groups.keys()):\n",
    "        violation_1 = passed_by_race[label_name][i] / counts_by_race[label_name][i]\n",
    "        violation_2 = sum(predict_y) / len(predict_y)\n",
    "        violations.append(abs(violation_1 - r * violation_2))\n",
    "    violation = max(violations)\n",
    "    return violation\n",
    "    \n",
    "violation_unmitigated = [get_violation(unmitigated_y,A_test,'unmitigated_predicted_y')]\n",
    "print(\"The violation for unmitigated is:\")\n",
    "print(violation_unmitigated)"
   ]
  },
  {
   "cell_type": "code",
   "execution_count": 33,
   "metadata": {},
   "outputs": [
    {
     "name": "stdout",
     "output_type": "stream",
     "text": [
      "================\n",
      "Now running DP ratio for r= 0.95\n",
      "    Running ExpGrad for eps= 0.001\n",
      "    Running ExpGrad for eps= 0.002\n",
      "    Running ExpGrad for eps= 0.003\n",
      "    Running ExpGrad for eps= 0.005\n",
      "    Running ExpGrad for eps= 0.007\n",
      "    Running ExpGrad for eps= 0.01\n",
      "    Running ExpGrad for eps= 0.02\n",
      "    Running ExpGrad for eps= 0.03\n",
      "    Running ExpGrad for eps= 0.04\n",
      "    Running ExpGrad for eps= 0.05\n",
      "    Running ExpGrad for eps= 0.06\n",
      "    Running ExpGrad for eps= 0.07\n",
      "    Running ExpGrad for eps= 0.08\n",
      "    Running ExpGrad for eps= 0.09\n",
      "    Running ExpGrad for eps= 0.1\n",
      "================\n",
      "Now running DP ratio for r= 0.9\n",
      "    Running ExpGrad for eps= 0.001\n",
      "    Running ExpGrad for eps= 0.002\n",
      "    Running ExpGrad for eps= 0.003\n",
      "    Running ExpGrad for eps= 0.005\n",
      "    Running ExpGrad for eps= 0.007\n",
      "    Running ExpGrad for eps= 0.01\n",
      "    Running ExpGrad for eps= 0.02\n",
      "    Running ExpGrad for eps= 0.03\n",
      "    Running ExpGrad for eps= 0.04\n",
      "    Running ExpGrad for eps= 0.05\n",
      "    Running ExpGrad for eps= 0.06\n"
     ]
    },
    {
     "name": "stderr",
     "output_type": "stream",
     "text": [
      "The pivot operation produces a pivot value of: 7.6e-06, which is only slightly greater than the specified tolerance 1.0e-09. This may lead to issues regarding the numerical stability of the simplex method. Removing redundant constraints, changing the pivot strategy via Bland's rule or increasing the tolerance may help reduce the issue.\n",
      "The pivot operation produces a pivot value of: 7.6e-06, which is only slightly greater than the specified tolerance 1.0e-09. This may lead to issues regarding the numerical stability of the simplex method. Removing redundant constraints, changing the pivot strategy via Bland's rule or increasing the tolerance may help reduce the issue.\n",
      "The pivot operation produces a pivot value of: 7.6e-06, which is only slightly greater than the specified tolerance 1.0e-09. This may lead to issues regarding the numerical stability of the simplex method. Removing redundant constraints, changing the pivot strategy via Bland's rule or increasing the tolerance may help reduce the issue.\n",
      "The pivot operation produces a pivot value of: 7.6e-06, which is only slightly greater than the specified tolerance 1.0e-09. This may lead to issues regarding the numerical stability of the simplex method. Removing redundant constraints, changing the pivot strategy via Bland's rule or increasing the tolerance may help reduce the issue.\n",
      "The pivot operation produces a pivot value of: 7.6e-06, which is only slightly greater than the specified tolerance 1.0e-09. This may lead to issues regarding the numerical stability of the simplex method. Removing redundant constraints, changing the pivot strategy via Bland's rule or increasing the tolerance may help reduce the issue.\n",
      "The pivot operation produces a pivot value of: 7.6e-06, which is only slightly greater than the specified tolerance 1.0e-09. This may lead to issues regarding the numerical stability of the simplex method. Removing redundant constraints, changing the pivot strategy via Bland's rule or increasing the tolerance may help reduce the issue.\n"
     ]
    },
    {
     "name": "stdout",
     "output_type": "stream",
     "text": [
      "    Running ExpGrad for eps= 0.07\n",
      "    Running ExpGrad for eps= 0.08\n",
      "    Running ExpGrad for eps= 0.09\n",
      "    Running ExpGrad for eps= 0.1\n",
      "================\n",
      "Now running DP ratio for r= 0.85\n",
      "    Running ExpGrad for eps= 0.001\n",
      "    Running ExpGrad for eps= 0.002\n",
      "    Running ExpGrad for eps= 0.003\n",
      "    Running ExpGrad for eps= 0.005\n",
      "    Running ExpGrad for eps= 0.007\n",
      "    Running ExpGrad for eps= 0.01\n",
      "    Running ExpGrad for eps= 0.02\n",
      "    Running ExpGrad for eps= 0.03\n",
      "    Running ExpGrad for eps= 0.04\n",
      "    Running ExpGrad for eps= 0.05\n",
      "    Running ExpGrad for eps= 0.06\n",
      "    Running ExpGrad for eps= 0.07\n",
      "    Running ExpGrad for eps= 0.08\n",
      "    Running ExpGrad for eps= 0.09\n",
      "    Running ExpGrad for eps= 0.1\n",
      "================\n",
      "Now running DP ratio for r= 0.8\n",
      "    Running ExpGrad for eps= 0.001\n",
      "    Running ExpGrad for eps= 0.002\n",
      "    Running ExpGrad for eps= 0.003\n",
      "    Running ExpGrad for eps= 0.005\n",
      "    Running ExpGrad for eps= 0.007\n",
      "    Running ExpGrad for eps= 0.01\n",
      "    Running ExpGrad for eps= 0.02\n",
      "    Running ExpGrad for eps= 0.03\n",
      "    Running ExpGrad for eps= 0.04\n",
      "    Running ExpGrad for eps= 0.05\n",
      "    Running ExpGrad for eps= 0.06\n",
      "    Running ExpGrad for eps= 0.07\n",
      "    Running ExpGrad for eps= 0.08\n",
      "    Running ExpGrad for eps= 0.09\n",
      "    Running ExpGrad for eps= 0.1\n"
     ]
    }
   ],
   "source": [
    "from fairlearn.reductions import ExponentiatedGradient\n",
    "from fairlearn.reductions import GridSearch, DemographicParity\n",
    "import numpy as np\n",
    "\n",
    "learner = LeastSquaresBinaryClassifierLearner()\n",
    "\n",
    "eps_list = [0.001,0.002,0.003,0.005,0.007,0.01,0.02,0.03,0.04,0.05,0.06,0.07,0.08,0.09,0.1]\n",
    "# eps_list = list(np.arange(0.001, 0.1, 0.001))\n",
    "# eps_list = [0.01]\n",
    "\n",
    "\n",
    "#=============================DP difference===============================\n",
    "\n",
    "expgrad_error_dif = []\n",
    "expgrad_violation_dif = []\n",
    "\n",
    "for eps in eps_list:\n",
    "    expgrad_X = ExponentiatedGradient(\n",
    "    learner,\n",
    "    constraints=DemographicParity(ratio=1),\n",
    "    eps=eps,\n",
    "    nu=1e-6)\n",
    "    \n",
    "    expgrad_X.fit(\n",
    "    X_train,\n",
    "    y_train,\n",
    "    sensitive_features=A_train)\n",
    "    \n",
    "    expgrad_y = pd.Series(expgrad_X.predict(X_train),name=\"expgrad_predicted_y\")\n",
    "    error_expgrad = get_error(y_train,expgrad_y)\n",
    "    expgrad_error_dif.append(error_expgrad)\n",
    "    violation_expgrad = get_violation(expgrad_y,A_train,\"expgrad_predicted_y\")\n",
    "    expgrad_violation_dif.append(violation_expgrad)\n",
    "\n",
    "#=============================DP ratio===============================\n",
    "ratios = [0.95,0.9,0.85,0.8]\n",
    "expgrad_error_ratio = []\n",
    "expgrad_violation_ratio = []\n",
    "violation_unmitigated_list = []\n",
    "for r in ratios:\n",
    "    print(\"================\")\n",
    "    print(\"Now running DP ratio for r=\",r)\n",
    "    violation_unmitigated = get_violation_ratio(unmitigated_y,A_test,'unmitigated_predicted_y',r)\n",
    "    violation_unmitigated_list.append(violation_unmitigated)\n",
    "    \n",
    "    expgrad_error = []\n",
    "    expgrad_violation = []\n",
    "\n",
    "    for eps in eps_list:\n",
    "        print(\"    Running ExpGrad for eps=\",eps)\n",
    "        expgrad_X = ExponentiatedGradient(\n",
    "        learner,\n",
    "        constraints=DemographicParity(ratio=r),\n",
    "        eps=eps,\n",
    "        nu=1e-6)\n",
    "\n",
    "        expgrad_X.fit(\n",
    "        X_train,\n",
    "        y_train,\n",
    "        sensitive_features=A_train)\n",
    "\n",
    "        expgrad_y = pd.Series(expgrad_X.predict(X_train),name=\"expgrad_predicted_y\")\n",
    "        error_expgrad = get_error(y_train,expgrad_y)\n",
    "        expgrad_error.append(error_expgrad)\n",
    "        violation_expgrad = get_violation_ratio(expgrad_y,A_train,\"expgrad_predicted_y\",r)\n",
    "        expgrad_violation.append(violation_expgrad)\n",
    "        \n",
    "    expgrad_error_ratio.append(expgrad_error)\n",
    "    expgrad_violation_ratio.append(expgrad_violation)\n",
    "\n",
    "\n"
   ]
  },
  {
   "cell_type": "code",
   "execution_count": 34,
   "metadata": {},
   "outputs": [],
   "source": [
    "import matplotlib.pyplot as plt"
   ]
  },
  {
   "cell_type": "code",
   "execution_count": 35,
   "metadata": {},
   "outputs": [
    {
     "data": {
      "image/png": "[encoded data removed]",
      "text/plain": [
       "<Figure size 432x288 with 1 Axes>"
      ]
     },
     "metadata": {
      "needs_background": "light"
     },
     "output_type": "display_data"
    }
   ],
   "source": [
    "plt.scatter(expgrad_violation_dif,expgrad_error_dif,label=\"expgrad\")\n",
    "plt.plot(violation_unmitigated,error_unmitigated,'ro',label=\"unmitigated\")\n",
    "plt.xlabel('Violation of the fairness constraint')\n",
    "plt.ylabel('Error')\n",
    "plt.title('Adult Uci/DP difference/log.reg')\n",
    "plt.legend()\n",
    "plt.show()"
   ]
  },
  {
   "cell_type": "code",
   "execution_count": 36,
   "metadata": {},
   "outputs": [
    {
     "data": {
      "image/png": "[encoded data removed]",
      "text/plain": [
       "<Figure size 432x288 with 1 Axes>"
      ]
     },
     "metadata": {
      "needs_background": "light"
     },
     "output_type": "display_data"
    },
    {
     "data": {
      "image/png": "[encoded data removed]",
      "text/plain": [
       "<Figure size 432x288 with 1 Axes>"
      ]
     },
     "metadata": {
      "needs_background": "light"
     },
     "output_type": "display_data"
    },
    {
     "data": {
      "image/png": "[encoded data removed]",
      "text/plain": [
       "<Figure size 432x288 with 1 Axes>"
      ]
     },
     "metadata": {
      "needs_background": "light"
     },
     "output_type": "display_data"
    },
    {
     "data": {
      "image/png": "[encoded data removed]",
      "text/plain": [
       "<Figure size 432x288 with 1 Axes>"
      ]
     },
     "metadata": {
      "needs_background": "light"
     },
     "output_type": "display_data"
    }
   ],
   "source": [
    "for i,r in enumerate(ratios):\n",
    "    expgrad_violation = expgrad_violation_ratio[i]\n",
    "    expgrad_error = expgrad_error_ratio[i]\n",
    "    violation_unmitigated = violation_unmitigated_list[i]\n",
    "    \n",
    "    plt.scatter(expgrad_violation_dif,expgrad_error_dif,label=\"expgrad\")\n",
    "    plt.plot(violation_unmitigated,error_unmitigated,'ro',label=\"unmitigated\")\n",
    "    plt.xlabel('Violation of the fairness constraint')\n",
    "    plt.ylabel('Error')\n",
    "    plt.title('Adult Uci/DP ratio(r='+str(r)+')/log.reg')\n",
    "    plt.legend()\n",
    "    plt.show()\n",
    "    "
   ]
  },
  {
   "cell_type": "code",
   "execution_count": null,
   "metadata": {},
   "outputs": [],
   "source": []
  }
 ],
 "metadata": {
  "kernelspec": {
   "display_name": "Python 3",
   "language": "python",
   "name": "python3"
  },
  "language_info": {
   "codemirror_mode": {
    "name": "ipython",
    "version": 3
   },
   "file_extension": ".py",
   "mimetype": "text/x-python",
   "name": "python",
   "nbconvert_exporter": "python",
   "pygments_lexer": "ipython3",
   "version": "3.6.10"
  }
 },
 "nbformat": 4,
 "nbformat_minor": 4
}
